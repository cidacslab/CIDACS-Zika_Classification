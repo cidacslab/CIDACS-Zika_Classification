{
 "cells": [
  {
   "cell_type": "markdown",
   "metadata": {},
   "source": [
    "# Sklearn\n",
    "## imports"
   ]
  },
  {
   "cell_type": "code",
   "execution_count": 2,
   "metadata": {},
   "outputs": [],
   "source": [
    "import pandas as pd\n",
    "import numpy as np\n",
    "from matplotlib import pyplot as plt\n",
    "from sklearn.model_selection import train_test_split, cross_val_score,GridSearchCV\n",
    "from sklearn.preprocessing import MinMaxScaler"
   ]
  },
  {
   "cell_type": "markdown",
   "metadata": {},
   "source": [
    " ## load Data"
   ]
  },
  {
   "cell_type": "code",
   "execution_count": null,
   "metadata": {},
   "outputs": [],
   "source": [
    "seed =1234\n",
    "XDf=  pd.read_csv('banco1.csv',index_col=0)\n",
    "XDf =XDf.fillna(-9)\n",
    "XDf.iloc[:,2:19] = XDf.iloc[:,2:19].astype('object')\n",
    "XDf.sexo[XDf.sexo=='Feminino'] = 0\n",
    "XDf.sexo[XDf.sexo=='Masculino'] = 1\n",
    "XDf.sexo = XDf.sexo.astype('int64')\n",
    "XDf['sexo_miss'] = XDf['sexo']\n",
    "XDf.sexo_miss[XDf.sexo==-9] = 1\n",
    "XDf.sexo_miss[XDf.sexo!=-9] = 0\n",
    "XDf.sexo[XDf.sexo==-9] = 0\n",
    "XDf['tamanhoCabe_miss'] = XDf['tamanhoCabe']\n",
    "XDf.tamanhoCabe_miss[XDf.tamanhoCabe==-9] = 1\n",
    "XDf.tamanhoCabe_miss[XDf.tamanhoCabe!=-9] = 0\n",
    "XDf.tamanhoCabe[XDf.tamanhoCabe==-9] = 32\n",
    "XDf.tamanhoCabe = XDf.tamanhoCabe.astype('int64')\n",
    "XDf.tamanhoCabe_miss = XDf.tamanhoCabe_miss.astype('int64')\n",
    "classFeto = XDf.classFeto.astype('object')\n",
    "classFeto_miss = classFeto.copy()\n",
    "classFeto[classFeto=='Termo'] = 1\n",
    "classFeto_miss[classFeto_miss!=-9]= 0\n",
    "classFeto_miss[classFeto_miss==-9] = 1\n",
    "classFeto[classFeto=='Pré-Termo'] = 0\n",
    "classFeto[classFeto=='Pós-Termo'] = 2\n",
    "classFeto[classFeto==-9]=0\n",
    "XDf.classFeto = classFeto.astype('int64')\n",
    "XDf['classFeto_miss'] = classFeto_miss.astype('int64')\n",
    "del classFeto\n",
    "del classFeto_miss\n",
    "micro = XDf.micro\n",
    "micro_miss = micro.copy()\n",
    "micro[micro==-9] = 0\n",
    "XDf.micro = micro.astype('int64')\n",
    "del micro\n",
    "micro_miss[micro_miss!=-9] =0\n",
    "micro_miss[micro_miss==-9] = 1\n",
    "XDf['micro_miss'] = micro_miss.astype('int64')\n",
    "del micro_miss\n",
    "del XDf['NV_TC_MICRO']\n",
    "del XDf['NV_Storch']\n",
    "del XDf['NV_sifilis']\n",
    "del XDf['count_storch']\n",
    "del XDf['NV_TOXO']\n",
    "del XDf['NV_CMV']\n",
    "del XDf['NV_DENGUE']\n",
    "del XDf['NV_CHIK']\n",
    "del XDf['NV_USG_MICRO']\n",
    "del XDf['NV_RM_MICRO']\n",
    "del XDf['NV_USG_RESULT']\n",
    "del XDf['NV_TC_RESULT']\n",
    "del XDf['NV_RM_RESULT']\n",
    "del XDf['missImagem']\n",
    "XDf=XDf[['sexo','sexo_miss','tamanhoCabe','tamanhoCabe_miss','classFeto','classFeto_miss','micro','micro_miss','casegr']]\n",
    "YDf = XDf.casegr\n",
    "del XDf['casegr']\n",
    "Y = np.array(YDf)\n",
    "\n",
    "X = np.array(XDf)\n",
    "Y[Y!='Discarded']=1\n",
    "Y[Y=='Discarded'] = 0\n",
    "Y=Y.astype(int)\n",
    "X2 = MinMaxScaler().fit_transform(X)\n",
    "x_train,x_test,y_train,y_test=train_test_split(X,Y,test_size=0.2,random_state=seed)\n",
    "x2_train,x2_test,y2_train,y2_test=train_test_split(X2,Y,test_size=0.2,random_state=seed)"
   ]
  },
  {
   "cell_type": "markdown",
   "metadata": {},
   "source": [
    "# Classify Group1\n",
    "## KNeighborsClassifier"
   ]
  },
  {
   "cell_type": "code",
   "execution_count": 7,
   "metadata": {},
   "outputs": [],
   "source": [
    "from sklearn.neighbors import KNeighborsClassifier\n",
    "from sklearn.model_selection import GridSearchCV,cross_val_score"
   ]
  },
  {
   "cell_type": "code",
   "execution_count": 8,
   "metadata": {},
   "outputs": [
    {
     "data": {
      "text/plain": [
       "{'n_neighbors': 3}"
      ]
     },
     "execution_count": 8,
     "metadata": {},
     "output_type": "execute_result"
    }
   ],
   "source": [
    "param = {'n_neighbors':[1,2,3,4,5,6,7,8,9,10]}\n",
    "KNN = KNeighborsClassifier()\n",
    "grid = GridSearchCV(KNN,param)\n",
    "grid.fit(x2_train,y2_train)\n",
    "grid.best_params_"
   ]
  },
  {
   "cell_type": "code",
   "execution_count": 9,
   "metadata": {},
   "outputs": [
    {
     "data": {
      "text/plain": [
       "(0.77012987012987, 0.09218238375207732, 0.5909090909090909, 0.9090909090909091)"
      ]
     },
     "execution_count": 9,
     "metadata": {},
     "output_type": "execute_result"
    }
   ],
   "source": [
    "modelo_KNN = KNeighborsClassifier(n_neighbors=3)\n",
    "res_KNN = cross_val_score(modelo_KNN,x2_train,y2_train,cv=10)\n",
    "res_KNN.mean(),res_KNN.std(),res_KNN.min(),res_KNN.max()"
   ]
  },
  {
   "cell_type": "markdown",
   "metadata": {},
   "source": [
    "## CART"
   ]
  },
  {
   "cell_type": "code",
   "execution_count": 10,
   "metadata": {},
   "outputs": [
    {
     "data": {
      "text/plain": [
       "{'max_depth': None, 'min_samples_split': 20}"
      ]
     },
     "execution_count": 10,
     "metadata": {},
     "output_type": "execute_result"
    }
   ],
   "source": [
    "from sklearn.tree import DecisionTreeClassifier\n",
    "\n",
    "param = {'max_depth':[None,5,6,7,8,9,10,11,12,13,14,15],'min_samples_split':[15,16,17,18,19,20,21,22,23,24,25,26]}\n",
    "CART = DecisionTreeClassifier()\n",
    "grid = GridSearchCV(CART,param)\n",
    "grid.fit(x2_train,y2_train)\n",
    "grid.best_params_"
   ]
  },
  {
   "cell_type": "code",
   "execution_count": 11,
   "metadata": {},
   "outputs": [
    {
     "data": {
      "text/plain": [
       "(0.8162337662337661,\n",
       " 0.052579584746793126,\n",
       " 0.7727272727272727,\n",
       " 0.9090909090909091)"
      ]
     },
     "execution_count": 11,
     "metadata": {},
     "output_type": "execute_result"
    }
   ],
   "source": [
    "modelo_CART = DecisionTreeClassifier(max_depth=None,min_samples_split=20)\n",
    "res_CART = cross_val_score(modelo_CART,x2_train,y2_train,cv=10)\n",
    "res_CART.mean(),res_CART.std(),res_CART.min(),res_CART.max()"
   ]
  },
  {
   "cell_type": "markdown",
   "metadata": {},
   "source": [
    "## Random forest"
   ]
  },
  {
   "cell_type": "code",
   "execution_count": 12,
   "metadata": {},
   "outputs": [],
   "source": [
    "from sklearn.ensemble import RandomForestClassifier\n",
    "from sklearn.metrics import classification_report"
   ]
  },
  {
   "cell_type": "code",
   "execution_count": 13,
   "metadata": {},
   "outputs": [
    {
     "data": {
      "text/plain": [
       "{'max_depth': 5, 'min_samples_split': 40}"
      ]
     },
     "execution_count": 13,
     "metadata": {},
     "output_type": "execute_result"
    }
   ],
   "source": [
    "param ={'min_samples_split':[20,30,40,50,60,100],'max_depth':[None,2,4,5,6,7,8,9,10,15]}\n",
    "RF = RandomForestClassifier(random_state=seed)\n",
    "grid = GridSearchCV(RF,param)\n",
    "grid.fit(x2_train,y2_train)\n",
    "grid.best_params_"
   ]
  },
  {
   "cell_type": "code",
   "execution_count": 14,
   "metadata": {},
   "outputs": [
    {
     "data": {
      "text/plain": [
       "(0.8344155844155845,\n",
       " 0.054019400338219295,\n",
       " 0.7727272727272727,\n",
       " 0.9090909090909091)"
      ]
     },
     "execution_count": 14,
     "metadata": {},
     "output_type": "execute_result"
    }
   ],
   "source": [
    "modelo_RF = RandomForestClassifier(min_samples_split=40,max_depth=5,random_state=seed)\n",
    "res_RF = cross_val_score(modelo_RF,x_train,y_train,cv=10)\n",
    "res_RF.mean(),res_RF.std(),res_RF.min(),res_RF.max()"
   ]
  },
  {
   "cell_type": "code",
   "execution_count": 15,
   "metadata": {},
   "outputs": [],
   "source": [
    "modelo_RF.fit(x_train,y_train)\n",
    "ypred = modelo_RF.predict(x_test)\n",
    "res = classification_report(y_test,ypred)"
   ]
  },
  {
   "cell_type": "code",
   "execution_count": 16,
   "metadata": {},
   "outputs": [
    {
     "name": "stdout",
     "output_type": "stream",
     "text": [
      "              precision    recall  f1-score   support\n",
      "\n",
      "           0       0.76      0.91      0.83        35\n",
      "           1       0.77      0.50      0.61        20\n",
      "\n",
      "    accuracy                           0.76        55\n",
      "   macro avg       0.77      0.71      0.72        55\n",
      "weighted avg       0.76      0.76      0.75        55\n",
      "\n"
     ]
    },
    {
     "data": {
      "text/html": [
       "<div>\n",
       "<style scoped>\n",
       "    .dataframe tbody tr th:only-of-type {\n",
       "        vertical-align: middle;\n",
       "    }\n",
       "\n",
       "    .dataframe tbody tr th {\n",
       "        vertical-align: top;\n",
       "    }\n",
       "\n",
       "    .dataframe thead th {\n",
       "        text-align: right;\n",
       "    }\n",
       "</style>\n",
       "<table border=\"1\" class=\"dataframe\">\n",
       "  <thead>\n",
       "    <tr style=\"text-align: right;\">\n",
       "      <th>col_0</th>\n",
       "      <th>0</th>\n",
       "      <th>1</th>\n",
       "    </tr>\n",
       "    <tr>\n",
       "      <th>row_0</th>\n",
       "      <th></th>\n",
       "      <th></th>\n",
       "    </tr>\n",
       "  </thead>\n",
       "  <tbody>\n",
       "    <tr>\n",
       "      <th>1</th>\n",
       "      <td>32</td>\n",
       "      <td>10</td>\n",
       "    </tr>\n",
       "    <tr>\n",
       "      <th>2</th>\n",
       "      <td>3</td>\n",
       "      <td>10</td>\n",
       "    </tr>\n",
       "  </tbody>\n",
       "</table>\n",
       "</div>"
      ],
      "text/plain": [
       "col_0   0   1\n",
       "row_0        \n",
       "1      32  10\n",
       "2       3  10"
      ]
     },
     "execution_count": 16,
     "metadata": {},
     "output_type": "execute_result"
    }
   ],
   "source": [
    "print(res)\n",
    "ypred = ypred+1\n",
    "pd.crosstab(ypred,y_test)\n"
   ]
  },
  {
   "cell_type": "markdown",
   "metadata": {},
   "source": [
    "## AdaBoost"
   ]
  },
  {
   "cell_type": "code",
   "execution_count": 17,
   "metadata": {},
   "outputs": [
    {
     "data": {
      "text/plain": [
       "{'learning_rate': 0.1}"
      ]
     },
     "execution_count": 17,
     "metadata": {},
     "output_type": "execute_result"
    }
   ],
   "source": [
    "from sklearn.ensemble import AdaBoostClassifier\n",
    "\n",
    "param ={'learning_rate':[0.01,0.05,0.1,0.2,0.5,1,1.5,2]}\n",
    "Ada = AdaBoostClassifier(random_state=seed)\n",
    "grid = GridSearchCV(Ada,param)\n",
    "grid.fit(x2_train,y2_train)\n",
    "grid.best_params_"
   ]
  },
  {
   "cell_type": "code",
   "execution_count": 18,
   "metadata": {},
   "outputs": [
    {
     "data": {
      "text/plain": [
       "(0.8164502164502165,\n",
       " 0.08537472642545062,\n",
       " 0.6363636363636364,\n",
       " 0.9047619047619048)"
      ]
     },
     "execution_count": 18,
     "metadata": {},
     "output_type": "execute_result"
    }
   ],
   "source": [
    "modelo_Ada = AdaBoostClassifier(learning_rate=0.1,random_state=seed)\n",
    "res_Ada = cross_val_score(modelo_Ada,x2_train,y2_train,cv=10)\n",
    "res_Ada.mean(),res_Ada.std(),res_Ada.min(),res_Ada.max()"
   ]
  },
  {
   "cell_type": "markdown",
   "metadata": {},
   "source": [
    "## Gradient Boosting"
   ]
  },
  {
   "cell_type": "code",
   "execution_count": 19,
   "metadata": {},
   "outputs": [
    {
     "data": {
      "text/plain": [
       "{'max_depth': 2, 'min_samples_split': 40}"
      ]
     },
     "execution_count": 19,
     "metadata": {},
     "output_type": "execute_result"
    }
   ],
   "source": [
    "from sklearn.ensemble import GradientBoostingClassifier\n",
    "\n",
    "param = {'max_depth':[2,3,4,5,8,10,15],'min_samples_split':[2,4,5,6,8,10,20,30,40]}\n",
    "GB = GradientBoostingClassifier(random_state=seed)\n",
    "grid = GridSearchCV(GB,param)\n",
    "grid.fit(x2_train,y2_train)\n",
    "grid.best_params_"
   ]
  },
  {
   "cell_type": "code",
   "execution_count": 20,
   "metadata": {},
   "outputs": [
    {
     "data": {
      "text/plain": [
       "(0.8164502164502165,\n",
       " 0.0877614212095292,\n",
       " 0.6363636363636364,\n",
       " 0.9090909090909091)"
      ]
     },
     "execution_count": 20,
     "metadata": {},
     "output_type": "execute_result"
    }
   ],
   "source": [
    "modelo_GB = GradientBoostingClassifier(max_depth=2,min_samples_split=40,random_state=seed)\n",
    "res_GB = cross_val_score(modelo_GB,x2_train,y2_train,cv=10)\n",
    "res_GB.mean(),res_GB.std(),res_GB.min(),res_GB.max()"
   ]
  },
  {
   "cell_type": "markdown",
   "metadata": {},
   "source": [
    "### roc curve"
   ]
  },
  {
   "cell_type": "code",
   "execution_count": 21,
   "metadata": {},
   "outputs": [],
   "source": [
    "from sklearn.metrics import roc_curve, auc,plot_roc_curve ,classification_report"
   ]
  },
  {
   "cell_type": "code",
   "execution_count": 22,
   "metadata": {},
   "outputs": [
    {
     "data": {
      "text/plain": [
       "GradientBoostingClassifier(max_depth=2, min_samples_split=40, random_state=1234)"
      ]
     },
     "execution_count": 22,
     "metadata": {},
     "output_type": "execute_result"
    }
   ],
   "source": [
    "modelo_RF = RandomForestClassifier(min_samples_split=40,max_depth=5,random_state=seed)\n",
    "modelo_RF.fit(x2_train,y2_train)\n",
    "modelo_KNN = KNeighborsClassifier(n_neighbors=3)\n",
    "modelo_KNN.fit(x2_train,y2_train)\n",
    "modelo_CART = DecisionTreeClassifier(max_depth=None,min_samples_split=20)\n",
    "modelo_CART.fit(x2_train,y2_train)\n",
    "modelo_Ada = AdaBoostClassifier(learning_rate=0.1,random_state=seed)\n",
    "modelo_Ada.fit(x2_train,y2_train)\n",
    "modelo_GB = GradientBoostingClassifier(max_depth=2,min_samples_split=40,random_state=seed)\n",
    "modelo_GB.fit(x2_train,y2_train)"
   ]
  },
  {
   "cell_type": "code",
   "execution_count": 23,
   "metadata": {},
   "outputs": [
    {
     "data": {
      "text/plain": [
       "<Figure size 432x288 with 0 Axes>"
      ]
     },
     "metadata": {},
     "output_type": "display_data"
    },
    {
     "data": {
      "image/png": "[encoded data removed]",
      "text/plain": [
       "<Figure size 432x288 with 1 Axes>"
      ]
     },
     "metadata": {
      "needs_background": "light"
     },
     "output_type": "display_data"
    }
   ],
   "source": [
    "plt.figure()\n",
    "fig =plot_roc_curve(modelo_RF,x2_test,y2_test,color='darkblue',label=\"RF (AUC=0.84)\")\n",
    "\n",
    "#fig =plot_roc_curve(modelo_KNN,x2_test,y2_test,color='lightblue',ax=fig.ax_, label=\"KNN (AUC=0.72)\")\n",
    "fig =plot_roc_curve(modelo_KNN,x2_test,y2_test,color='lightblue',ax=fig.ax_)\n",
    "fig =plot_roc_curve(modelo_CART,x2_test,y2_test,color='lightgreen',ax=fig.ax_)\n",
    "fig =plot_roc_curve(modelo_Ada,x2_test,y2_test,color='lightpink',ax=fig.ax_)\n",
    "fig =plot_roc_curve(modelo_GB,x2_test,y2_test,color='indianred',ax=fig.ax_)\n",
    "#fig =plot_roc_curve(modelo_CART,x2_test,y2_test,color='lightgreen',ax=fig.ax_, label=\"CART (AUC=0.87)\")\n",
    "#fig =plot_roc_curve(modelo_Ada,x2_test,y2_test,color='lightpink',ax=fig.ax_, label=\"AdaBoost (AUC=0.81)\")\n",
    "#fig =plot_roc_curve(modelo_GB,x2_test,y2_test,color='indianred',ax=fig.ax_, label=\"GB (AUC=0.83)\")\n",
    "lw = 2\n",
    "plt.plot([0, 1], [0, 1], color='navy', lw=lw, linestyle='--')\n",
    "plt.xlim([0.0, 1.0])\n",
    "plt.ylim([0.0, 1.0])\n",
    "plt.xlabel('False Positive Rate')\n",
    "plt.ylabel('True Positive Rate')\n",
    "plt.title('Receiver operating characteristic')\n",
    "plt.legend(loc=\"lower right\")\n",
    "plt.savefig('fig2',dpi=100)\n",
    "plt.show()\n"
   ]
  },
  {
   "cell_type": "code",
   "execution_count": 24,
   "metadata": {},
   "outputs": [
    {
     "name": "stdout",
     "output_type": "stream",
     "text": [
      "              precision    recall  f1-score   support\n",
      "\n",
      "           0       0.76      0.91      0.83        35\n",
      "           1       0.77      0.50      0.61        20\n",
      "\n",
      "    accuracy                           0.76        55\n",
      "   macro avg       0.77      0.71      0.72        55\n",
      "weighted avg       0.76      0.76      0.75        55\n",
      "\n"
     ]
    },
    {
     "data": {
      "text/html": [
       "<div>\n",
       "<style scoped>\n",
       "    .dataframe tbody tr th:only-of-type {\n",
       "        vertical-align: middle;\n",
       "    }\n",
       "\n",
       "    .dataframe tbody tr th {\n",
       "        vertical-align: top;\n",
       "    }\n",
       "\n",
       "    .dataframe thead th {\n",
       "        text-align: right;\n",
       "    }\n",
       "</style>\n",
       "<table border=\"1\" class=\"dataframe\">\n",
       "  <thead>\n",
       "    <tr style=\"text-align: right;\">\n",
       "      <th>col_0</th>\n",
       "      <th>0</th>\n",
       "      <th>1</th>\n",
       "    </tr>\n",
       "    <tr>\n",
       "      <th>row_0</th>\n",
       "      <th></th>\n",
       "      <th></th>\n",
       "    </tr>\n",
       "  </thead>\n",
       "  <tbody>\n",
       "    <tr>\n",
       "      <th>0</th>\n",
       "      <td>32</td>\n",
       "      <td>3</td>\n",
       "    </tr>\n",
       "    <tr>\n",
       "      <th>1</th>\n",
       "      <td>10</td>\n",
       "      <td>10</td>\n",
       "    </tr>\n",
       "  </tbody>\n",
       "</table>\n",
       "</div>"
      ],
      "text/plain": [
       "col_0   0   1\n",
       "row_0        \n",
       "0      32   3\n",
       "1      10  10"
      ]
     },
     "execution_count": 24,
     "metadata": {},
     "output_type": "execute_result"
    }
   ],
   "source": [
    "y2_pred=modelo_RF.predict(x2_test)\n",
    "print(classification_report(y2_test,y2_pred))\n",
    "pd.crosstab(y2_test,y2_pred)"
   ]
  },
  {
   "cell_type": "markdown",
   "metadata": {},
   "source": [
    "# Classify Group 2\n",
    "## load data"
   ]
  },
  {
   "cell_type": "code",
   "execution_count": 1,
   "metadata": {},
   "outputs": [],
   "source": [
    "import pandas as pd\n",
    "import numpy as np\n",
    "from matplotlib import pyplot as plt\n",
    "import spacy\n",
    "from spacy.lang.pt.stop_words import STOP_WORDS\n",
    "from spacy.tokens import Token, Doc\n",
    "import unidecode\n",
    "import html\n",
    "import string\n",
    "import re\n",
    "from sklearn.metrics import accuracy_score,precision_score, recall_score,classification_report\n",
    "from sklearn.model_selection import train_test_split,GridSearchCV,cross_val_score\n",
    "import pickle as pk\n",
    "from sklearn.preprocessing import MinMaxScaler\n",
    "#import arff\n",
    "\n",
    "seed =1234\n",
    "file = open('Xclassific2.dat','rb')\n",
    "X = pk.load(file)\n",
    "file.close()\n",
    "file = open('Yclassific2.dat','rb')\n",
    "Y = pk.load(file)\n",
    "file.close()\n",
    "texto = list(X.texto.copy())\n",
    "file = open('banco_total.dat','rb')\n",
    "banco = pk.load(file)\n",
    "file.close()\n",
    "X_train, X_test,y_train, y_test = train_test_split(X, Y, train_size=0.8,random_state=seed,stratify=Y)\n",
    "texto_t = list(X_train.texto.copy())\n",
    "del X_train['texto']\n",
    "texto_v = list(X_test.texto.copy())\n",
    "del X_test['texto']\n",
    "del X['texto']"
   ]
  },
  {
   "cell_type": "markdown",
   "metadata": {},
   "source": [
    "## NLP"
   ]
  },
  {
   "cell_type": "code",
   "execution_count": 2,
   "metadata": {},
   "outputs": [],
   "source": [
    "import NLP as NLP\n",
    "\n",
    "nlp = NLP.NLP()\n",
    "lista =nlp.setWordsText(texto_t,2)\n",
    "X_train =nlp.getDataframe(X_train,texto_t)\n",
    "X_test = nlp.getDataframe(X_test,texto_v)\n",
    "lista_total = nlp.setWordsText(texto,2)\n",
    "X =nlp.getDataframe(X,texto)"
   ]
  },
  {
   "cell_type": "markdown",
   "metadata": {},
   "source": [
    "#### Save Words list"
   ]
  },
  {
   "cell_type": "code",
   "execution_count": 3,
   "metadata": {},
   "outputs": [],
   "source": [
    "file = open('lista_word.dat','wb')\n",
    "pk.dump(lista_total,file)\n",
    "file.close()"
   ]
  },
  {
   "cell_type": "markdown",
   "metadata": {},
   "source": [
    "## KNeighborsClassifier"
   ]
  },
  {
   "cell_type": "code",
   "execution_count": 57,
   "metadata": {},
   "outputs": [
    {
     "data": {
      "text/plain": [
       "{'n_neighbors': 6}"
      ]
     },
     "execution_count": 57,
     "metadata": {},
     "output_type": "execute_result"
    }
   ],
   "source": [
    "from sklearn.neighbors import KNeighborsClassifier\n",
    "from sklearn.model_selection import GridSearchCV,cross_val_score\n",
    "\n",
    "param = {'n_neighbors':[1,2,3,4,5,6,7,8,9,10]}\n",
    "KNN = KNeighborsClassifier()\n",
    "grid = GridSearchCV(KNN,param,n_jobs=3)\n",
    "grid.fit(X_train,y_train)\n",
    "grid.best_params_"
   ]
  },
  {
   "cell_type": "code",
   "execution_count": 58,
   "metadata": {},
   "outputs": [
    {
     "data": {
      "text/plain": [
       "(0.7588483146067417,\n",
       " 0.03688580383010427,\n",
       " 0.7078651685393258,\n",
       " 0.8295454545454546)"
      ]
     },
     "execution_count": 58,
     "metadata": {},
     "output_type": "execute_result"
    }
   ],
   "source": [
    "modelo_KNN = KNeighborsClassifier(n_neighbors=6)\n",
    "res_KNN = cross_val_score(modelo_KNN,X_train,y_train,cv=10)\n",
    "res_KNN.mean(),res_KNN.std(),res_KNN.min(),res_KNN.max()"
   ]
  },
  {
   "cell_type": "markdown",
   "metadata": {},
   "source": [
    "## CART"
   ]
  },
  {
   "cell_type": "code",
   "execution_count": 22,
   "metadata": {},
   "outputs": [
    {
     "data": {
      "text/plain": [
       "{'max_depth': 7, 'min_samples_split': 16}"
      ]
     },
     "execution_count": 22,
     "metadata": {},
     "output_type": "execute_result"
    }
   ],
   "source": [
    "from sklearn.tree import DecisionTreeClassifier\n",
    "\n",
    "param = {'max_depth':[None,5,6,7,8,9,10,11,12,13,14,15],'min_samples_split':[15,16,17,18,19,20,21,22,23,24,25,26]}\n",
    "CART = DecisionTreeClassifier()\n",
    "grid = GridSearchCV(CART,param,n_jobs=3)\n",
    "grid.fit(X_train,y_train)\n",
    "grid.best_params_"
   ]
  },
  {
   "cell_type": "code",
   "execution_count": 23,
   "metadata": {},
   "outputs": [
    {
     "data": {
      "text/plain": [
       "(0.8084014300306434,\n",
       " 0.04275479455400559,\n",
       " 0.7303370786516854,\n",
       " 0.8651685393258427)"
      ]
     },
     "execution_count": 23,
     "metadata": {},
     "output_type": "execute_result"
    }
   ],
   "source": [
    "modelo_CART = DecisionTreeClassifier(max_depth=7,min_samples_split=16)\n",
    "res_CART = cross_val_score(modelo_CART,X_train,y_train,cv=10)\n",
    "res_CART.mean(),res_CART.std(),res_CART.min(),res_CART.max()"
   ]
  },
  {
   "cell_type": "markdown",
   "metadata": {},
   "source": [
    "## Random forest"
   ]
  },
  {
   "cell_type": "code",
   "execution_count": 24,
   "metadata": {},
   "outputs": [
    {
     "data": {
      "text/plain": [
       "{'max_depth': 15, 'min_samples_split': 2}"
      ]
     },
     "execution_count": 24,
     "metadata": {},
     "output_type": "execute_result"
    }
   ],
   "source": [
    "from sklearn.ensemble import RandomForestClassifier\n",
    "from sklearn.metrics import classification_report\n",
    "param ={'min_samples_split':[2,3,4,6,8,10],'max_depth':[None,2,4,5,6,7,8,9,10,15]}\n",
    "RF = RandomForestClassifier(random_state=seed)\n",
    "grid = GridSearchCV(RF,param,n_jobs=3)\n",
    "grid.fit(X_train,y_train)\n",
    "grid.best_params_"
   ]
  },
  {
   "cell_type": "code",
   "execution_count": 25,
   "metadata": {},
   "outputs": [
    {
     "data": {
      "text/plain": [
       "(0.8332482124616956,\n",
       " 0.02698223549411131,\n",
       " 0.797752808988764,\n",
       " 0.8863636363636364)"
      ]
     },
     "execution_count": 25,
     "metadata": {},
     "output_type": "execute_result"
    }
   ],
   "source": [
    "modelo_RF = RandomForestClassifier(min_samples_split=2,max_depth=15,random_state=seed)\n",
    "res_RF = cross_val_score(modelo_RF,X_train,y_train,cv=10,n_jobs=3)\n",
    "res_RF.mean(),res_RF.std(),res_RF.min(),res_RF.max()"
   ]
  },
  {
   "cell_type": "markdown",
   "metadata": {},
   "source": [
    "## AdaBoost"
   ]
  },
  {
   "cell_type": "code",
   "execution_count": 26,
   "metadata": {},
   "outputs": [
    {
     "data": {
      "text/plain": [
       "{'learning_rate': 0.2}"
      ]
     },
     "execution_count": 26,
     "metadata": {},
     "output_type": "execute_result"
    }
   ],
   "source": [
    "from sklearn.ensemble import AdaBoostClassifier\n",
    "\n",
    "param ={'learning_rate':[0.01,0.05,0.1,0.2,0.5,1,1.5,2]}\n",
    "Ada = AdaBoostClassifier(random_state=seed)\n",
    "grid = GridSearchCV(Ada,param,n_jobs=3)\n",
    "grid.fit(X_train,y_train)\n",
    "grid.best_params_"
   ]
  },
  {
   "cell_type": "code",
   "execution_count": 27,
   "metadata": {},
   "outputs": [
    {
     "data": {
      "text/plain": [
       "(0.7958886618998979,\n",
       " 0.023788723767940743,\n",
       " 0.7613636363636364,\n",
       " 0.8314606741573034)"
      ]
     },
     "execution_count": 27,
     "metadata": {},
     "output_type": "execute_result"
    }
   ],
   "source": [
    "modelo_Ada = AdaBoostClassifier(learning_rate=0.2,random_state=seed)\n",
    "res_Ada = cross_val_score(modelo_Ada,X_train,y_train,cv=10)\n",
    "res_Ada.mean(),res_Ada.std(),res_Ada.min(),res_Ada.max()"
   ]
  },
  {
   "cell_type": "markdown",
   "metadata": {},
   "source": [
    "## Gradient Boosting"
   ]
  },
  {
   "cell_type": "code",
   "execution_count": 4,
   "metadata": {},
   "outputs": [
    {
     "data": {
      "text/plain": [
       "{'max_depth': 8, 'min_samples_split': 40}"
      ]
     },
     "execution_count": 4,
     "metadata": {},
     "output_type": "execute_result"
    }
   ],
   "source": [
    "from sklearn.ensemble import GradientBoostingClassifier\n",
    "\n",
    "param = {'max_depth':[2,3,4,5,8,10,15],'min_samples_split':[2,4,5,6,8,10,20,30,40]}\n",
    "GB = GradientBoostingClassifier(random_state=seed)\n",
    "grid = GridSearchCV(GB,param,n_jobs=3)\n",
    "grid.fit(X_train,y_train)\n",
    "grid.best_params_"
   ]
  },
  {
   "cell_type": "code",
   "execution_count": 5,
   "metadata": {},
   "outputs": [
    {
     "data": {
      "text/plain": [
       "(0.8456077630234933,\n",
       " 0.024842714142666537,\n",
       " 0.8089887640449438,\n",
       " 0.8764044943820225)"
      ]
     },
     "execution_count": 5,
     "metadata": {},
     "output_type": "execute_result"
    }
   ],
   "source": [
    "modelo_GB = GradientBoostingClassifier(max_depth=8,min_samples_split=40,random_state=seed)\n",
    "res_GB = cross_val_score(modelo_GB,X_train,y_train,cv=10,n_jobs=3)\n",
    "res_GB.mean(),res_GB.std(),res_GB.min(),res_GB.max()"
   ]
  },
  {
   "cell_type": "markdown",
   "metadata": {},
   "source": [
    "### Evaluation best model"
   ]
  },
  {
   "cell_type": "code",
   "execution_count": 7,
   "metadata": {},
   "outputs": [],
   "source": [
    "from sklearn.ensemble import GradientBoostingClassifier\n",
    "modelo_GB = GradientBoostingClassifier(max_depth=8,min_samples_split=40,random_state=seed)\n",
    "modelo_GB.fit(X_train,y_train)\n",
    "y_pred =modelo_GB.predict(X_test)\n"
   ]
  },
  {
   "cell_type": "code",
   "execution_count": 8,
   "metadata": {},
   "outputs": [
    {
     "name": "stdout",
     "output_type": "stream",
     "text": [
      "              precision    recall  f1-score   support\n",
      "\n",
      "           0       0.91      0.91      0.91       135\n",
      "           1       0.70      0.53      0.60        40\n",
      "           2       0.76      0.86      0.81        36\n",
      "           3       0.56      0.82      0.67        11\n",
      "\n",
      "    accuracy                           0.83       222\n",
      "   macro avg       0.73      0.78      0.75       222\n",
      "weighted avg       0.83      0.83      0.83       222\n",
      "\n"
     ]
    },
    {
     "data": {
      "text/html": [
       "<div>\n",
       "<style scoped>\n",
       "    .dataframe tbody tr th:only-of-type {\n",
       "        vertical-align: middle;\n",
       "    }\n",
       "\n",
       "    .dataframe tbody tr th {\n",
       "        vertical-align: top;\n",
       "    }\n",
       "\n",
       "    .dataframe thead th {\n",
       "        text-align: right;\n",
       "    }\n",
       "</style>\n",
       "<table border=\"1\" class=\"dataframe\">\n",
       "  <thead>\n",
       "    <tr style=\"text-align: right;\">\n",
       "      <th>col_0</th>\n",
       "      <th>0</th>\n",
       "      <th>1</th>\n",
       "      <th>2</th>\n",
       "      <th>3</th>\n",
       "    </tr>\n",
       "    <tr>\n",
       "      <th>casegr</th>\n",
       "      <th></th>\n",
       "      <th></th>\n",
       "      <th></th>\n",
       "      <th></th>\n",
       "    </tr>\n",
       "  </thead>\n",
       "  <tbody>\n",
       "    <tr>\n",
       "      <th>0</th>\n",
       "      <td>123</td>\n",
       "      <td>6</td>\n",
       "      <td>2</td>\n",
       "      <td>4</td>\n",
       "    </tr>\n",
       "    <tr>\n",
       "      <th>1</th>\n",
       "      <td>10</td>\n",
       "      <td>21</td>\n",
       "      <td>7</td>\n",
       "      <td>2</td>\n",
       "    </tr>\n",
       "    <tr>\n",
       "      <th>2</th>\n",
       "      <td>2</td>\n",
       "      <td>2</td>\n",
       "      <td>31</td>\n",
       "      <td>1</td>\n",
       "    </tr>\n",
       "    <tr>\n",
       "      <th>3</th>\n",
       "      <td>0</td>\n",
       "      <td>1</td>\n",
       "      <td>1</td>\n",
       "      <td>9</td>\n",
       "    </tr>\n",
       "  </tbody>\n",
       "</table>\n",
       "</div>"
      ],
      "text/plain": [
       "col_0     0   1   2  3\n",
       "casegr                \n",
       "0       123   6   2  4\n",
       "1        10  21   7  2\n",
       "2         2   2  31  1\n",
       "3         0   1   1  9"
      ]
     },
     "execution_count": 8,
     "metadata": {},
     "output_type": "execute_result"
    }
   ],
   "source": [
    "print(classification_report(y_test,y_pred))\n",
    "pd.crosstab(y_test,y_pred)"
   ]
  },
  {
   "cell_type": "markdown",
   "metadata": {},
   "source": [
    "### Final model"
   ]
  },
  {
   "cell_type": "code",
   "execution_count": 9,
   "metadata": {},
   "outputs": [
    {
     "data": {
      "text/plain": [
       "GradientBoostingClassifier(max_depth=8, min_samples_split=40, random_state=1234)"
      ]
     },
     "execution_count": 9,
     "metadata": {},
     "output_type": "execute_result"
    }
   ],
   "source": [
    "from sklearn.ensemble import GradientBoostingClassifier\n",
    "modelo_GB = GradientBoostingClassifier(max_depth=8,min_samples_split=40,random_state=seed)\n",
    "modelo_GB.fit(X,Y)\n"
   ]
  },
  {
   "cell_type": "markdown",
   "metadata": {},
   "source": [
    "#### Save model"
   ]
  },
  {
   "cell_type": "code",
   "execution_count": 10,
   "metadata": {},
   "outputs": [],
   "source": [
    "file = open('classific2.dat','wb')\n",
    "pk.dump(modelo_GB,file)\n",
    "file.close()"
   ]
  },
  {
   "cell_type": "markdown",
   "metadata": {},
   "source": [
    "#### Final with all data"
   ]
  },
  {
   "cell_type": "code",
   "execution_count": 11,
   "metadata": {},
   "outputs": [
    {
     "name": "stdout",
     "output_type": "stream",
     "text": [
      "                     precision    recall  f1-score   support\n",
      "\n",
      "           Definite       1.00      1.00      1.00        76\n",
      "          Discarded       0.97      0.98      0.97       899\n",
      "    Highly probable       1.00      1.00      1.00        54\n",
      "Moderately probable       1.00      1.00      1.00       181\n",
      "  Somewhat probable       0.94      0.89      0.92       291\n",
      "\n",
      "           accuracy                           0.97      1501\n",
      "          macro avg       0.98      0.98      0.98      1501\n",
      "       weighted avg       0.97      0.97      0.97      1501\n",
      "\n"
     ]
    },
    {
     "data": {
      "text/html": [
       "<div>\n",
       "<style scoped>\n",
       "    .dataframe tbody tr th:only-of-type {\n",
       "        vertical-align: middle;\n",
       "    }\n",
       "\n",
       "    .dataframe tbody tr th {\n",
       "        vertical-align: top;\n",
       "    }\n",
       "\n",
       "    .dataframe thead th {\n",
       "        text-align: right;\n",
       "    }\n",
       "</style>\n",
       "<table border=\"1\" class=\"dataframe\">\n",
       "  <thead>\n",
       "    <tr style=\"text-align: right;\">\n",
       "      <th>classFinal</th>\n",
       "      <th>Definite</th>\n",
       "      <th>Discarded</th>\n",
       "      <th>Highly probable</th>\n",
       "      <th>Moderately probable</th>\n",
       "      <th>Somewhat probable</th>\n",
       "    </tr>\n",
       "    <tr>\n",
       "      <th>casegr</th>\n",
       "      <th></th>\n",
       "      <th></th>\n",
       "      <th></th>\n",
       "      <th></th>\n",
       "      <th></th>\n",
       "    </tr>\n",
       "  </thead>\n",
       "  <tbody>\n",
       "    <tr>\n",
       "      <th>Definite</th>\n",
       "      <td>76</td>\n",
       "      <td>0</td>\n",
       "      <td>0</td>\n",
       "      <td>0</td>\n",
       "      <td>0</td>\n",
       "    </tr>\n",
       "    <tr>\n",
       "      <th>Discarded</th>\n",
       "      <td>0</td>\n",
       "      <td>883</td>\n",
       "      <td>0</td>\n",
       "      <td>0</td>\n",
       "      <td>16</td>\n",
       "    </tr>\n",
       "    <tr>\n",
       "      <th>Highly probable</th>\n",
       "      <td>0</td>\n",
       "      <td>0</td>\n",
       "      <td>54</td>\n",
       "      <td>0</td>\n",
       "      <td>0</td>\n",
       "    </tr>\n",
       "    <tr>\n",
       "      <th>Moderately probable</th>\n",
       "      <td>0</td>\n",
       "      <td>0</td>\n",
       "      <td>0</td>\n",
       "      <td>181</td>\n",
       "      <td>0</td>\n",
       "    </tr>\n",
       "    <tr>\n",
       "      <th>Somewhat probable</th>\n",
       "      <td>0</td>\n",
       "      <td>31</td>\n",
       "      <td>0</td>\n",
       "      <td>0</td>\n",
       "      <td>260</td>\n",
       "    </tr>\n",
       "  </tbody>\n",
       "</table>\n",
       "</div>"
      ],
      "text/plain": [
       "classFinal           Definite  Discarded  Highly probable  \\\n",
       "casegr                                                      \n",
       "Definite                   76          0                0   \n",
       "Discarded                   0        883                0   \n",
       "Highly probable             0          0               54   \n",
       "Moderately probable         0          0                0   \n",
       "Somewhat probable           0         31                0   \n",
       "\n",
       "classFinal           Moderately probable  Somewhat probable  \n",
       "casegr                                                       \n",
       "Definite                               0                  0  \n",
       "Discarded                              0                 16  \n",
       "Highly probable                        0                  0  \n",
       "Moderately probable                  181                  0  \n",
       "Somewhat probable                      0                260  "
      ]
     },
     "execution_count": 11,
     "metadata": {},
     "output_type": "execute_result"
    }
   ],
   "source": [
    "y_pred =modelo_GB.predict(X)\n",
    "banco.loc[banco.typeClass=='group2','classFinal'] =  list(y_pred)\n",
    "banco.classFinal.replace([0,1,2,3],['Discarded','Somewhat probable','Moderately probable','Highly probable'],inplace=True)\n",
    "print(classification_report(banco.casegr,banco.classFinal))\n",
    "pd.crosstab(banco.casegr,banco.classFinal)"
   ]
  },
  {
   "cell_type": "markdown",
   "metadata": {},
   "source": [
    "## Full Resp 2015"
   ]
  },
  {
   "cell_type": "code",
   "execution_count": 12,
   "metadata": {},
   "outputs": [],
   "source": [
    "import pandas as pd\n",
    "import numpy as np\n",
    "import pickle as pk\n",
    "from matplotlib import pyplot as plt\n",
    "\n",
    "file = open(\"banco_resp_2015\",'rb')\n",
    "banco2015=pk.load(file)\n",
    "file.close()\n",
    "file = open(\"banco_resp_2017\",'rb')\n",
    "banco2017=pk.load(file)\n",
    "file.close()\n",
    "#2015 ->30%\n",
    "#2017 ->31%"
   ]
  },
  {
   "cell_type": "code",
   "execution_count": 13,
   "metadata": {},
   "outputs": [
    {
     "data": {
      "text/plain": [
       "DESCARTADO           2322\n",
       "CONFIRMADO            998\n",
       "EM INVESTIGAÇÃO       475\n",
       "SEM CLASSIFICAÇÃO     351\n",
       "PROVÁVEL               18\n",
       "Name: casegr, dtype: int64"
      ]
     },
     "execution_count": 13,
     "metadata": {},
     "output_type": "execute_result"
    }
   ],
   "source": [
    "banco2015.casegr.value_counts()"
   ]
  },
  {
   "cell_type": "code",
   "execution_count": 14,
   "metadata": {},
   "outputs": [
    {
     "data": {
      "text/plain": [
       "EM INVESTIGAÇÃO      834\n",
       "DESCARTADO           351\n",
       "SEM CLASSIFICAÇÃO    284\n",
       "CONFIRMADO           160\n",
       "PROVÁVEL              67\n",
       "Name: casegr, dtype: int64"
      ]
     },
     "execution_count": 14,
     "metadata": {},
     "output_type": "execute_result"
    }
   ],
   "source": [
    "banco2017.casegr.value_counts()"
   ]
  },
  {
   "cell_type": "code",
   "execution_count": 15,
   "metadata": {},
   "outputs": [
    {
     "data": {
      "text/html": [
       "<div>\n",
       "<style scoped>\n",
       "    .dataframe tbody tr th:only-of-type {\n",
       "        vertical-align: middle;\n",
       "    }\n",
       "\n",
       "    .dataframe tbody tr th {\n",
       "        vertical-align: top;\n",
       "    }\n",
       "\n",
       "    .dataframe thead th {\n",
       "        text-align: right;\n",
       "    }\n",
       "</style>\n",
       "<table border=\"1\" class=\"dataframe\">\n",
       "  <thead>\n",
       "    <tr style=\"text-align: right;\">\n",
       "      <th>casegr</th>\n",
       "      <th>Confirmed</th>\n",
       "      <th>Discarded</th>\n",
       "    </tr>\n",
       "    <tr>\n",
       "      <th>classFinal</th>\n",
       "      <th></th>\n",
       "      <th></th>\n",
       "    </tr>\n",
       "  </thead>\n",
       "  <tbody>\n",
       "    <tr>\n",
       "      <th>Definite</th>\n",
       "      <td>176</td>\n",
       "      <td>1</td>\n",
       "    </tr>\n",
       "    <tr>\n",
       "      <th>Discarded</th>\n",
       "      <td>132</td>\n",
       "      <td>1987</td>\n",
       "    </tr>\n",
       "    <tr>\n",
       "      <th>Highly probable</th>\n",
       "      <td>77</td>\n",
       "      <td>12</td>\n",
       "    </tr>\n",
       "    <tr>\n",
       "      <th>Moderately probable</th>\n",
       "      <td>321</td>\n",
       "      <td>54</td>\n",
       "    </tr>\n",
       "    <tr>\n",
       "      <th>Somewhat probable</th>\n",
       "      <td>292</td>\n",
       "      <td>268</td>\n",
       "    </tr>\n",
       "  </tbody>\n",
       "</table>\n",
       "</div>"
      ],
      "text/plain": [
       "casegr               Confirmed  Discarded\n",
       "classFinal                               \n",
       "Definite                   176          1\n",
       "Discarded                  132       1987\n",
       "Highly probable             77         12\n",
       "Moderately probable        321         54\n",
       "Somewhat probable          292        268"
      ]
     },
     "execution_count": 15,
     "metadata": {},
     "output_type": "execute_result"
    }
   ],
   "source": [
    "banco2015 = banco2015[(banco2015.casegr=='DESCARTADO')|(banco2015.casegr=='CONFIRMADO')]\n",
    "banco2015.casegr.replace(['DESCARTADO','CONFIRMADO'],['Discarded','Confirmed'],inplace=True)\n",
    "banco2017 = banco2017[(banco2017.casegr=='DESCARTADO')|(banco2017.casegr=='CONFIRMADO')]\n",
    "banco2017.casegr.replace(['DESCARTADO','CONFIRMADO'],['Discarded','Confirmed'],inplace=True)\n",
    "tb = pd.crosstab(banco2015.classFinal,banco2015.casegr)\n",
    "tb\n",
    "#x = np.arange(len(classe))\n",
    "#banco2015['aux'] = banco2015.classFinal\n",
    "#tb = pd.crosstab(banco2015.aux,banco2015.casegr)\n",
    "#fig,ax = plt.subplots(figsize=(12, 8))\n",
    "#b1 =ax.bar(x,tb.iloc[0,[1,3,0,2,4]],width=0.4)\n",
    "#b2 = ax.bar(x+0.4,tb.iloc[1,[1,3,0,2,4]],width=0.4)\n",
    "\n",
    "#ax.legend(['confirmado','descartado'])\n",
    "#ax.set_xticks(x+0.20)\n",
    "#ax.set_xticklabels(classe)\n",
    "#plt.plot()\n",
    "#tb"
   ]
  },
  {
   "cell_type": "code",
   "execution_count": 21,
   "metadata": {},
   "outputs": [
    {
     "data": {
      "text/html": [
       "<div>\n",
       "<style scoped>\n",
       "    .dataframe tbody tr th:only-of-type {\n",
       "        vertical-align: middle;\n",
       "    }\n",
       "\n",
       "    .dataframe tbody tr th {\n",
       "        vertical-align: top;\n",
       "    }\n",
       "\n",
       "    .dataframe thead th {\n",
       "        text-align: right;\n",
       "    }\n",
       "</style>\n",
       "<table border=\"1\" class=\"dataframe\">\n",
       "  <thead>\n",
       "    <tr style=\"text-align: right;\">\n",
       "      <th>casegr</th>\n",
       "      <th>Confirmed</th>\n",
       "      <th>Discarded</th>\n",
       "    </tr>\n",
       "    <tr>\n",
       "      <th>classFinal</th>\n",
       "      <th></th>\n",
       "      <th></th>\n",
       "    </tr>\n",
       "  </thead>\n",
       "  <tbody>\n",
       "    <tr>\n",
       "      <th>Definite</th>\n",
       "      <td>24</td>\n",
       "      <td>10</td>\n",
       "    </tr>\n",
       "    <tr>\n",
       "      <th>Discarded</th>\n",
       "      <td>37</td>\n",
       "      <td>177</td>\n",
       "    </tr>\n",
       "    <tr>\n",
       "      <th>Highly probable</th>\n",
       "      <td>15</td>\n",
       "      <td>19</td>\n",
       "    </tr>\n",
       "    <tr>\n",
       "      <th>Moderately probable</th>\n",
       "      <td>31</td>\n",
       "      <td>32</td>\n",
       "    </tr>\n",
       "    <tr>\n",
       "      <th>Somewhat probable</th>\n",
       "      <td>53</td>\n",
       "      <td>113</td>\n",
       "    </tr>\n",
       "  </tbody>\n",
       "</table>\n",
       "</div>"
      ],
      "text/plain": [
       "casegr               Confirmed  Discarded\n",
       "classFinal                               \n",
       "Definite                    24         10\n",
       "Discarded                   37        177\n",
       "Highly probable             15         19\n",
       "Moderately probable         31         32\n",
       "Somewhat probable           53        113"
      ]
     },
     "execution_count": 21,
     "metadata": {},
     "output_type": "execute_result"
    }
   ],
   "source": [
    "tb = pd.crosstab(banco2017.classFinal,banco2017.casegr)\n",
    "tb"
   ]
  },
  {
   "cell_type": "code",
   "execution_count": 33,
   "metadata": {},
   "outputs": [
    {
     "data": {
      "text/plain": [
       "Discarded    2322\n",
       "Confirmed     998\n",
       "Name: casegr, dtype: int64"
      ]
     },
     "execution_count": 33,
     "metadata": {},
     "output_type": "execute_result"
    }
   ],
   "source": [
    "banco2017.casegr.value_counts()"
   ]
  },
  {
   "cell_type": "code",
   "execution_count": 23,
   "metadata": {},
   "outputs": [
    {
     "data": {
      "text/plain": [
       "Discarded    2322\n",
       "Confirmed     998\n",
       "Name: casegr, dtype: int64"
      ]
     },
     "execution_count": 23,
     "metadata": {},
     "output_type": "execute_result"
    }
   ],
   "source": [
    "banco2015.casegr.value_counts()"
   ]
  }
 ],
 "metadata": {
  "kernelspec": {
   "display_name": "Python 3",
   "language": "python",
   "name": "python3"
  },
  "language_info": {
   "codemirror_mode": {
    "name": "ipython",
    "version": 3
   },
   "file_extension": ".py",
   "mimetype": "text/x-python",
   "name": "python",
   "nbconvert_exporter": "python",
   "pygments_lexer": "ipython3",
   "version": "3.8.5"
  }
 },
 "nbformat": 4,
 "nbformat_minor": 4
}
