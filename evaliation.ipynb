{
 "cells": [
  {
   "cell_type": "markdown",
   "metadata": {},
   "source": [
    "# Sklearn\n",
    "## imports"
   ]
  },
  {
   "cell_type": "code",
   "execution_count": 2,
   "metadata": {},
   "outputs": [],
   "source": [
    "import pandas as pd\n",
    "import numpy as np\n",
    "from matplotlib import pyplot as plt\n",
    "from sklearn.model_selection import train_test_split, cross_val_score,GridSearchCV\n",
    "from sklearn.preprocessing import MinMaxScaler"
   ]
  },
  {
   "cell_type": "markdown",
   "metadata": {},
   "source": [
    " ## load Data"
   ]
  },
  {
   "cell_type": "code",
   "execution_count": null,
   "metadata": {},
   "outputs": [],
   "source": [
    "seed =1234\n",
    "XDf=  pd.read_csv('banco1.csv',index_col=0)\n",
    "XDf =XDf.fillna(-9)\n",
    "XDf.iloc[:,2:19] = XDf.iloc[:,2:19].astype('object')\n",
    "XDf.sexo[XDf.sexo=='Feminino'] = 0\n",
    "XDf.sexo[XDf.sexo=='Masculino'] = 1\n",
    "XDf.sexo = XDf.sexo.astype('int64')\n",
    "XDf['sexo_miss'] = XDf['sexo']\n",
    "XDf.sexo_miss[XDf.sexo==-9] = 1\n",
    "XDf.sexo_miss[XDf.sexo!=-9] = 0\n",
    "XDf.sexo[XDf.sexo==-9] = 0\n",
    "XDf['tamanhoCabe_miss'] = XDf['tamanhoCabe']\n",
    "XDf.tamanhoCabe_miss[XDf.tamanhoCabe==-9] = 1\n",
    "XDf.tamanhoCabe_miss[XDf.tamanhoCabe!=-9] = 0\n",
    "XDf.tamanhoCabe[XDf.tamanhoCabe==-9] = 32\n",
    "XDf.tamanhoCabe = XDf.tamanhoCabe.astype('int64')\n",
    "XDf.tamanhoCabe_miss = XDf.tamanhoCabe_miss.astype('int64')\n",
    "classFeto = XDf.classFeto.astype('object')\n",
    "classFeto_miss = classFeto.copy()\n",
    "classFeto[classFeto=='Termo'] = 1\n",
    "classFeto_miss[classFeto_miss!=-9]= 0\n",
    "classFeto_miss[classFeto_miss==-9] = 1\n",
    "classFeto[classFeto=='Pré-Termo'] = 0\n",
    "classFeto[classFeto=='Pós-Termo'] = 2\n",
    "classFeto[classFeto==-9]=0\n",
    "XDf.classFeto = classFeto.astype('int64')\n",
    "XDf['classFeto_miss'] = classFeto_miss.astype('int64')\n",
    "del classFeto\n",
    "del classFeto_miss\n",
    "micro = XDf.micro\n",
    "micro_miss = micro.copy()\n",
    "micro[micro==-9] = 0\n",
    "XDf.micro = micro.astype('int64')\n",
    "del micro\n",
    "micro_miss[micro_miss!=-9] =0\n",
    "micro_miss[micro_miss==-9] = 1\n",
    "XDf['micro_miss'] = micro_miss.astype('int64')\n",
    "del micro_miss\n",
    "del XDf['NV_TC_MICRO']\n",
    "del XDf['NV_Storch']\n",
    "del XDf['NV_sifilis']\n",
    "del XDf['count_storch']\n",
    "del XDf['NV_TOXO']\n",
    "del XDf['NV_CMV']\n",
    "del XDf['NV_DENGUE']\n",
    "del XDf['NV_CHIK']\n",
    "del XDf['NV_USG_MICRO']\n",
    "del XDf['NV_RM_MICRO']\n",
    "del XDf['NV_USG_RESULT']\n",
    "del XDf['NV_TC_RESULT']\n",
    "del XDf['NV_RM_RESULT']\n",
    "del XDf['missImagem']\n",
    "XDf=XDf[['sexo','sexo_miss','tamanhoCabe','tamanhoCabe_miss','classFeto','classFeto_miss','micro','micro_miss','casegr']]\n",
    "YDf = XDf.casegr\n",
    "del XDf['casegr']\n",
    "Y = np.array(YDf)\n",
    "\n",
    "X = np.array(XDf)\n",
    "Y[Y!='Discarded']=1\n",
    "Y[Y=='Discarded'] = 0\n",
    "Y=Y.astype(int)\n",
    "X2 = MinMaxScaler().fit_transform(X)\n",
    "x_train,x_test,y_train,y_test=train_test_split(X,Y,test_size=0.2,random_state=seed)\n",
    "x2_train,x2_test,y2_train,y2_test=train_test_split(X2,Y,test_size=0.2,random_state=seed)"
   ]
  },
  {
   "cell_type": "markdown",
   "metadata": {},
   "source": [
    "# Classify Group1\n",
    "## KNeighborsClassifier"
   ]
  },
  {
   "cell_type": "code",
   "execution_count": 7,
   "metadata": {},
   "outputs": [],
   "source": [
    "from sklearn.neighbors import KNeighborsClassifier\n",
    "from sklearn.model_selection import GridSearchCV,cross_val_score"
   ]
  },
  {
   "cell_type": "code",
   "execution_count": 8,
   "metadata": {},
   "outputs": [
    {
     "data": {
      "text/plain": [
       "{'n_neighbors': 3}"
      ]
     },
     "execution_count": 8,
     "metadata": {},
     "output_type": "execute_result"
    }
   ],
   "source": [
    "param = {'n_neighbors':[1,2,3,4,5,6,7,8,9,10]}\n",
    "KNN = KNeighborsClassifier()\n",
    "grid = GridSearchCV(KNN,param)\n",
    "grid.fit(x2_train,y2_train)\n",
    "grid.best_params_"
   ]
  },
  {
   "cell_type": "code",
   "execution_count": 9,
   "metadata": {},
   "outputs": [
    {
     "data": {
      "text/plain": [
       "(0.77012987012987, 0.09218238375207732, 0.5909090909090909, 0.9090909090909091)"
      ]
     },
     "execution_count": 9,
     "metadata": {},
     "output_type": "execute_result"
    }
   ],
   "source": [
    "modelo_KNN = KNeighborsClassifier(n_neighbors=3)\n",
    "res_KNN = cross_val_score(modelo_KNN,x2_train,y2_train,cv=10)\n",
    "res_KNN.mean(),res_KNN.std(),res_KNN.min(),res_KNN.max()"
   ]
  },
  {
   "cell_type": "markdown",
   "metadata": {},
   "source": [
    "## CART"
   ]
  },
  {
   "cell_type": "code",
   "execution_count": 10,
   "metadata": {},
   "outputs": [
    {
     "data": {
      "text/plain": [
       "{'max_depth': None, 'min_samples_split': 20}"
      ]
     },
     "execution_count": 10,
     "metadata": {},
     "output_type": "execute_result"
    }
   ],
   "source": [
    "from sklearn.tree import DecisionTreeClassifier\n",
    "\n",
    "param = {'max_depth':[None,5,6,7,8,9,10,11,12,13,14,15],'min_samples_split':[15,16,17,18,19,20,21,22,23,24,25,26]}\n",
    "CART = DecisionTreeClassifier()\n",
    "grid = GridSearchCV(CART,param)\n",
    "grid.fit(x2_train,y2_train)\n",
    "grid.best_params_"
   ]
  },
  {
   "cell_type": "code",
   "execution_count": 11,
   "metadata": {},
   "outputs": [
    {
     "data": {
      "text/plain": [
       "(0.8162337662337661,\n",
       " 0.052579584746793126,\n",
       " 0.7727272727272727,\n",
       " 0.9090909090909091)"
      ]
     },
     "execution_count": 11,
     "metadata": {},
     "output_type": "execute_result"
    }
   ],
   "source": [
    "modelo_CART = DecisionTreeClassifier(max_depth=None,min_samples_split=20)\n",
    "res_CART = cross_val_score(modelo_CART,x2_train,y2_train,cv=10)\n",
    "res_CART.mean(),res_CART.std(),res_CART.min(),res_CART.max()"
   ]
  },
  {
   "cell_type": "markdown",
   "metadata": {},
   "source": [
    "## Random forest"
   ]
  },
  {
   "cell_type": "code",
   "execution_count": 12,
   "metadata": {},
   "outputs": [],
   "source": [
    "from sklearn.ensemble import RandomForestClassifier\n",
    "from sklearn.metrics import classification_report"
   ]
  },
  {
   "cell_type": "code",
   "execution_count": 13,
   "metadata": {},
   "outputs": [
    {
     "data": {
      "text/plain": [
       "{'max_depth': 5, 'min_samples_split': 40}"
      ]
     },
     "execution_count": 13,
     "metadata": {},
     "output_type": "execute_result"
    }
   ],
   "source": [
    "param ={'min_samples_split':[20,30,40,50,60,100],'max_depth':[None,2,4,5,6,7,8,9,10,15]}\n",
    "RF = RandomForestClassifier(random_state=seed)\n",
    "grid = GridSearchCV(RF,param)\n",
    "grid.fit(x2_train,y2_train)\n",
    "grid.best_params_"
   ]
  },
  {
   "cell_type": "code",
   "execution_count": 14,
   "metadata": {},
   "outputs": [
    {
     "data": {
      "text/plain": [
       "(0.8344155844155845,\n",
       " 0.054019400338219295,\n",
       " 0.7727272727272727,\n",
       " 0.9090909090909091)"
      ]
     },
     "execution_count": 14,
     "metadata": {},
     "output_type": "execute_result"
    }
   ],
   "source": [
    "modelo_RF = RandomForestClassifier(min_samples_split=40,max_depth=5,random_state=seed)\n",
    "res_RF = cross_val_score(modelo_RF,x_train,y_train,cv=10)\n",
    "res_RF.mean(),res_RF.std(),res_RF.min(),res_RF.max()"
   ]
  },
  {
   "cell_type": "code",
   "execution_count": 15,
   "metadata": {},
   "outputs": [],
   "source": [
    "modelo_RF.fit(x_train,y_train)\n",
    "ypred = modelo_RF.predict(x_test)\n",
    "res = classification_report(y_test,ypred)"
   ]
  },
  {
   "cell_type": "code",
   "execution_count": 16,
   "metadata": {},
   "outputs": [
    {
     "name": "stdout",
     "output_type": "stream",
     "text": [
      "              precision    recall  f1-score   support\n",
      "\n",
      "           0       0.76      0.91      0.83        35\n",
      "           1       0.77      0.50      0.61        20\n",
      "\n",
      "    accuracy                           0.76        55\n",
      "   macro avg       0.77      0.71      0.72        55\n",
      "weighted avg       0.76      0.76      0.75        55\n",
      "\n"
     ]
    },
    {
     "data": {
      "text/html": [
       "<div>\n",
       "<style scoped>\n",
       "    .dataframe tbody tr th:only-of-type {\n",
       "        vertical-align: middle;\n",
       "    }\n",
       "\n",
       "    .dataframe tbody tr th {\n",
       "        vertical-align: top;\n",
       "    }\n",
       "\n",
       "    .dataframe thead th {\n",
       "        text-align: right;\n",
       "    }\n",
       "</style>\n",
       "<table border=\"1\" class=\"dataframe\">\n",
       "  <thead>\n",
       "    <tr style=\"text-align: right;\">\n",
       "      <th>col_0</th>\n",
       "      <th>0</th>\n",
       "      <th>1</th>\n",
       "    </tr>\n",
       "    <tr>\n",
       "      <th>row_0</th>\n",
       "      <th></th>\n",
       "      <th></th>\n",
       "    </tr>\n",
       "  </thead>\n",
       "  <tbody>\n",
       "    <tr>\n",
       "      <th>1</th>\n",
       "      <td>32</td>\n",
       "      <td>10</td>\n",
       "    </tr>\n",
       "    <tr>\n",
       "      <th>2</th>\n",
       "      <td>3</td>\n",
       "      <td>10</td>\n",
       "    </tr>\n",
       "  </tbody>\n",
       "</table>\n",
       "</div>"
      ],
      "text/plain": [
       "col_0   0   1\n",
       "row_0        \n",
       "1      32  10\n",
       "2       3  10"
      ]
     },
     "execution_count": 16,
     "metadata": {},
     "output_type": "execute_result"
    }
   ],
   "source": [
    "print(res)\n",
    "ypred = ypred+1\n",
    "pd.crosstab(ypred,y_test)\n"
   ]
  },
  {
   "cell_type": "markdown",
   "metadata": {},
   "source": [
    "## AdaBoost"
   ]
  },
  {
   "cell_type": "code",
   "execution_count": 17,
   "metadata": {},
   "outputs": [
    {
     "data": {
      "text/plain": [
       "{'learning_rate': 0.1}"
      ]
     },
     "execution_count": 17,
     "metadata": {},
     "output_type": "execute_result"
    }
   ],
   "source": [
    "from sklearn.ensemble import AdaBoostClassifier\n",
    "\n",
    "param ={'learning_rate':[0.01,0.05,0.1,0.2,0.5,1,1.5,2]}\n",
    "Ada = AdaBoostClassifier(random_state=seed)\n",
    "grid = GridSearchCV(Ada,param)\n",
    "grid.fit(x2_train,y2_train)\n",
    "grid.best_params_"
   ]
  },
  {
   "cell_type": "code",
   "execution_count": 18,
   "metadata": {},
   "outputs": [
    {
     "data": {
      "text/plain": [
       "(0.8164502164502165,\n",
       " 0.08537472642545062,\n",
       " 0.6363636363636364,\n",
       " 0.9047619047619048)"
      ]
     },
     "execution_count": 18,
     "metadata": {},
     "output_type": "execute_result"
    }
   ],
   "source": [
    "modelo_Ada = AdaBoostClassifier(learning_rate=0.1,random_state=seed)\n",
    "res_Ada = cross_val_score(modelo_Ada,x2_train,y2_train,cv=10)\n",
    "res_Ada.mean(),res_Ada.std(),res_Ada.min(),res_Ada.max()"
   ]
  },
  {
   "cell_type": "markdown",
   "metadata": {},
   "source": [
    "## Gradient Boosting"
   ]
  },
  {
   "cell_type": "code",
   "execution_count": 19,
   "metadata": {},
   "outputs": [
    {
     "data": {
      "text/plain": [
       "{'max_depth': 2, 'min_samples_split': 40}"
      ]
     },
     "execution_count": 19,
     "metadata": {},
     "output_type": "execute_result"
    }
   ],
   "source": [
    "from sklearn.ensemble import GradientBoostingClassifier\n",
    "\n",
    "param = {'max_depth':[2,3,4,5,8,10,15],'min_samples_split':[2,4,5,6,8,10,20,30,40]}\n",
    "GB = GradientBoostingClassifier(random_state=seed)\n",
    "grid = GridSearchCV(GB,param)\n",
    "grid.fit(x2_train,y2_train)\n",
    "grid.best_params_"
   ]
  },
  {
   "cell_type": "code",
   "execution_count": 20,
   "metadata": {},
   "outputs": [
    {
     "data": {
      "text/plain": [
       "(0.8164502164502165,\n",
       " 0.0877614212095292,\n",
       " 0.6363636363636364,\n",
       " 0.9090909090909091)"
      ]
     },
     "execution_count": 20,
     "metadata": {},
     "output_type": "execute_result"
    }
   ],
   "source": [
    "modelo_GB = GradientBoostingClassifier(max_depth=2,min_samples_split=40,random_state=seed)\n",
    "res_GB = cross_val_score(modelo_GB,x2_train,y2_train,cv=10)\n",
    "res_GB.mean(),res_GB.std(),res_GB.min(),res_GB.max()"
   ]
  },
  {
   "cell_type": "markdown",
   "metadata": {},
   "source": [
    "### roc curve"
   ]
  },
  {
   "cell_type": "code",
   "execution_count": 21,
   "metadata": {},
   "outputs": [],
   "source": [
    "from sklearn.metrics import roc_curve, auc,plot_roc_curve ,classification_report"
   ]
  },
  {
   "cell_type": "code",
   "execution_count": 22,
   "metadata": {},
   "outputs": [
    {
     "data": {
      "text/plain": [
       "GradientBoostingClassifier(max_depth=2, min_samples_split=40, random_state=1234)"
      ]
     },
     "execution_count": 22,
     "metadata": {},
     "output_type": "execute_result"
    }
   ],
   "source": [
    "modelo_RF = RandomForestClassifier(min_samples_split=40,max_depth=5,random_state=seed)\n",
    "modelo_RF.fit(x2_train,y2_train)\n",
    "modelo_KNN = KNeighborsClassifier(n_neighbors=3)\n",
    "modelo_KNN.fit(x2_train,y2_train)\n",
    "modelo_CART = DecisionTreeClassifier(max_depth=None,min_samples_split=20)\n",
    "modelo_CART.fit(x2_train,y2_train)\n",
    "modelo_Ada = AdaBoostClassifier(learning_rate=0.1,random_state=seed)\n",
    "modelo_Ada.fit(x2_train,y2_train)\n",
    "modelo_GB = GradientBoostingClassifier(max_depth=2,min_samples_split=40,random_state=seed)\n",
    "modelo_GB.fit(x2_train,y2_train)"
   ]
  },
  {
   "cell_type": "code",
   "execution_count": 23,
   "metadata": {},
   "outputs": [
    {
     "data": {
      "text/plain": [
       "<Figure size 432x288 with 0 Axes>"
      ]
     },
     "metadata": {},
     "output_type": "display_data"
    },
    {
     "data": {
      "image/png": "[encoded data removed]",
      "text/plain": [
       "<Figure size 432x288 with 1 Axes>"
      ]
     },
     "metadata": {
      "needs_background": "light"
     },
     "output_type": "display_data"
    }
   ],
   "source": [
    "plt.figure()\n",
    "fig =plot_roc_curve(modelo_RF,x2_test,y2_test,color='darkblue',label=\"RF (AUC=0.84)\")\n",
    "\n",
    "#fig =plot_roc_curve(modelo_KNN,x2_test,y2_test,color='lightblue',ax=fig.ax_, label=\"KNN (AUC=0.72)\")\n",
    "fig =plot_roc_curve(modelo_KNN,x2_test,y2_test,color='lightblue',ax=fig.ax_)\n",
    "fig =plot_roc_curve(modelo_CART,x2_test,y2_test,color='lightgreen',ax=fig.ax_)\n",
    "fig =plot_roc_curve(modelo_Ada,x2_test,y2_test,color='lightpink',ax=fig.ax_)\n",
    "fig =plot_roc_curve(modelo_GB,x2_test,y2_test,color='indianred',ax=fig.ax_)\n",
    "#fig =plot_roc_curve(modelo_CART,x2_test,y2_test,color='lightgreen',ax=fig.ax_, label=\"CART (AUC=0.87)\")\n",
    "#fig =plot_roc_curve(modelo_Ada,x2_test,y2_test,color='lightpink',ax=fig.ax_, label=\"AdaBoost (AUC=0.81)\")\n",
    "#fig =plot_roc_curve(modelo_GB,x2_test,y2_test,color='indianred',ax=fig.ax_, label=\"GB (AUC=0.83)\")\n",
    "lw = 2\n",
    "plt.plot([0, 1], [0, 1], color='navy', lw=lw, linestyle='--')\n",
    "plt.xlim([0.0, 1.0])\n",
    "plt.ylim([0.0, 1.0])\n",
    "plt.xlabel('False Positive Rate')\n",
    "plt.ylabel('True Positive Rate')\n",
    "plt.title('Receiver operating characteristic')\n",
    "plt.legend(loc=\"lower right\")\n",
    "plt.savefig('fig2',dpi=100)\n",
    "plt.show()\n"
   ]
  },
  {
   "cell_type": "code",
   "execution_count": 24,
   "metadata": {},
   "outputs": [
    {
     "name": "stdout",
     "output_type": "stream",
     "text": [
      "              precision    recall  f1-score   support\n",
      "\n",
      "           0       0.76      0.91      0.83        35\n",
      "           1       0.77      0.50      0.61        20\n",
      "\n",
      "    accuracy                           0.76        55\n",
      "   macro avg       0.77      0.71      0.72        55\n",
      "weighted avg       0.76      0.76      0.75        55\n",
      "\n"
     ]
    },
    {
     "data": {
      "text/html": [
       "<div>\n",
       "<style scoped>\n",
       "    .dataframe tbody tr th:only-of-type {\n",
       "        vertical-align: middle;\n",
       "    }\n",
       "\n",
       "    .dataframe tbody tr th {\n",
       "        vertical-align: top;\n",
       "    }\n",
       "\n",
       "    .dataframe thead th {\n",
       "        text-align: right;\n",
       "    }\n",
       "</style>\n",
       "<table border=\"1\" class=\"dataframe\">\n",
       "  <thead>\n",
       "    <tr style=\"text-align: right;\">\n",
       "      <th>col_0</th>\n",
       "      <th>0</th>\n",
       "      <th>1</th>\n",
       "    </tr>\n",
       "    <tr>\n",
       "      <th>row_0</th>\n",
       "      <th></th>\n",
       "      <th></th>\n",
       "    </tr>\n",
       "  </thead>\n",
       "  <tbody>\n",
       "    <tr>\n",
       "      <th>0</th>\n",
       "      <td>32</td>\n",
       "      <td>3</td>\n",
       "    </tr>\n",
       "    <tr>\n",
       "      <th>1</th>\n",
       "      <td>10</td>\n",
       "      <td>10</td>\n",
       "    </tr>\n",
       "  </tbody>\n",
       "</table>\n",
       "</div>"
      ],
      "text/plain": [
       "col_0   0   1\n",
       "row_0        \n",
       "0      32   3\n",
       "1      10  10"
      ]
     },
     "execution_count": 24,
     "metadata": {},
     "output_type": "execute_result"
    }
   ],
   "source": [
    "y2_pred=modelo_RF.predict(x2_test)\n",
    "print(classification_report(y2_test,y2_pred))\n",
    "pd.crosstab(y2_test,y2_pred)"
   ]
  },
  {
   "cell_type": "markdown",
   "metadata": {},
   "source": [
    "# Classify Group 2\n",
    "## load data"
   ]
  },
  {
   "cell_type": "code",
   "execution_count": null,
   "metadata": {},
   "outputs": [],
   "source": [
    "import pandas as pd\n",
    "import numpy as np\n",
    "from matplotlib import pyplot as plt\n",
    "import spacy\n",
    "from spacy.lang.pt.stop_words import STOP_WORDS\n",
    "import unidecode\n",
    "import string\n",
    "#import xgboost as xgb\n",
    "from sklearn.metrics import accuracy_score,precision_score, recall_score\n",
    "from sklearn.model_selection import train_test_split\n",
    "import pickle as pk\n",
    "from sklearn.preprocessing import MinMaxScaler\n",
    "#import arff\n",
    "\n",
    "seed =1234\n",
    "banco = pd.read_csv('banco2.csv',index_col=0)\n",
    "banco =banco.fillna(-9)\n",
    "banco.sexo[banco.sexo=='Não Informado'] = -9\n",
    "banco.sexo[banco.sexo=='Ignorado'] = -9\n",
    "banco['sexo_miss'] = banco.sexo.copy()\n",
    "banco.sexo_miss[banco.sexo_miss!=-9] = 0\n",
    "banco.sexo_miss[banco.sexo_miss==-9] = 1\n",
    "banco.sexo[banco.sexo==-9] = 0\n",
    "banco.sexo[banco.sexo=='Feminino'] = 0\n",
    "banco.sexo[banco.sexo=='Masculino'] = 1\n",
    "#tamanhoCabe\n",
    "banco['tamanhoCabe_miss'] = banco.tamanhoCabe.copy()\n",
    "banco.tamanhoCabe_miss[banco.tamanhoCabe_miss!=-9] = 0\n",
    "banco.tamanhoCabe_miss[banco.tamanhoCabe_miss==-9] = 1\n",
    "banco.tamanhoCabe[banco.tamanhoCabe==-9] = 32\n",
    "#classFeto\n",
    "banco['classFeto_miss']=banco.classFeto.copy()\n",
    "banco.classFeto[banco.classFeto=='Termo'] = 1\n",
    "banco.classFeto[banco.classFeto=='Pré-Termo'] = 0\n",
    "banco.classFeto[banco.classFeto=='Pós-Termo'] = 2\n",
    "banco.classFeto[banco.classFeto=='Não se aplica'] = 1\n",
    "banco.classFeto_miss[banco.classFeto_miss!=\"Não se aplica\"] =0\n",
    "banco.classFeto_miss[banco.classFeto_miss==\"Não se aplica\"] =1\n",
    "#micro\n",
    "banco['micro_miss'] = banco.micro.copy()\n",
    "banco.micro[banco.micro==-9] = 0\n",
    "banco.micro_miss[banco.micro_miss!=-9]=0\n",
    "banco.micro_miss[banco.micro_miss==-9]=1\n",
    "#NV_TC_MICRO\n",
    "banco.NV_TC_MICRO[banco.NV_TC_MICRO=='SIM'] = 1\n",
    "banco.NV_TC_MICRO[banco.NV_TC_MICRO==-9] = 0\n",
    "#NV_Storch\n",
    "banco.NV_Storch[banco.NV_Storch=='4.Não fez nenhum exame para STRC'] = -9\n",
    "banco.NV_Storch[banco.NV_Storch=='2.Negativo para todos os STRC'] = 0\n",
    "banco.NV_Storch[banco.NV_Storch=='3.Negativo para 1-3 STRC'] = 1\n",
    "banco.NV_Storch[banco.NV_Storch=='1.Positivo para pelo menos 1 STRC'] = 2\n",
    "banco['NV_Storch_miss'] = banco.NV_Storch.copy()\n",
    "banco.NV_Storch_miss[banco.NV_Storch_miss!=-9] = 0\n",
    "banco.NV_Storch_miss[banco.NV_Storch_miss==-9] = 1\n",
    "banco.NV_Storch[banco.NV_Storch==-9] = 1\n",
    "#NV_sifilis\n",
    "banco['NV_sifilis_miss'] = banco.NV_sifilis.copy()\n",
    "banco.NV_sifilis_miss[banco.NV_sifilis_miss!=-9] = 0\n",
    "banco.NV_sifilis_miss[banco.NV_sifilis_miss==-9] = 1\n",
    "banco.NV_sifilis[banco.NV_sifilis==-9]=0\n",
    "banco.NV_sifilis[banco.NV_sifilis=='NR']=0\n",
    "banco.NV_sifilis[banco.NV_sifilis=='Reagente']=1\n",
    "#NV_TOXO\n",
    "banco['NV_TOXO_miss'] = banco.NV_TOXO.copy()\n",
    "banco.NV_TOXO_miss[banco.NV_TOXO_miss!=-9] = 0\n",
    "banco.NV_TOXO_miss[banco.NV_TOXO_miss==-9] = 1\n",
    "banco.NV_TOXO[banco.NV_TOXO==-9]=0\n",
    "banco.NV_TOXO[banco.NV_TOXO=='NR']=0\n",
    "banco.NV_TOXO[banco.NV_TOXO=='IgG reagente']=1\n",
    "#NV_CMV\n",
    "banco['NV_CMV_miss'] = banco.NV_CMV.copy()\n",
    "banco.NV_CMV_miss[banco.NV_CMV_miss!=-9] = 0\n",
    "banco.NV_CMV_miss[banco.NV_CMV_miss==-9] = 1\n",
    "banco.NV_CMV[banco.NV_CMV==-9]=1\n",
    "banco.NV_CMV[banco.NV_CMV=='NR']=0\n",
    "banco.NV_CMV[banco.NV_CMV=='IgG reagente']=1\n",
    "#NV_DENGUE\n",
    "banco['NV_DENGUE_miss'] = banco.NV_DENGUE.copy()\n",
    "banco.NV_DENGUE_miss[banco.NV_DENGUE_miss!=-9] = 0\n",
    "banco.NV_DENGUE_miss[banco.NV_DENGUE_miss==-9] = 1\n",
    "banco.NV_DENGUE[banco.NV_DENGUE==-9]=0\n",
    "banco.NV_DENGUE[banco.NV_DENGUE=='NR']=0\n",
    "banco.NV_DENGUE[banco.NV_DENGUE=='IgG reagente']=1\n",
    "banco.NV_DENGUE[banco.NV_DENGUE=='IgM reagente']=2\n",
    "#NV_CHIK\n",
    "banco.NV_CHIK[banco.NV_CHIK==-9]=0\n",
    "banco.NV_CHIK[banco.NV_CHIK=='NR']=1\n",
    "del banco['count_storch']\n",
    "#NV_USG_MICRO\n",
    "banco.NV_USG_MICRO[banco.NV_USG_MICRO==-9]=0\n",
    "banco.NV_USG_MICRO[banco.NV_USG_MICRO=='SIM']=1\n",
    "#NV_RM_MICRO\n",
    "banco.NV_RM_MICRO[banco.NV_RM_MICRO==-9]=0\n",
    "banco.NV_RM_MICRO[banco.NV_RM_MICRO=='SIM']=1\n",
    "#NV_USG_RESULT\n",
    "banco['NV_USG_RESULT_miss'] = banco.NV_USG_RESULT.copy()\n",
    "banco.NV_USG_RESULT_miss[banco.NV_USG_RESULT_miss!=-9] = 0\n",
    "banco.NV_USG_RESULT_miss[banco.NV_USG_RESULT_miss==-9] = 1\n",
    "banco.NV_USG_RESULT[banco.NV_USG_RESULT==-9]=0\n",
    "banco.NV_USG_RESULT[banco.NV_USG_RESULT=='Normal']=0\n",
    "banco.NV_USG_RESULT[banco.NV_USG_RESULT=='Indeterminado']=1\n",
    "banco.NV_USG_RESULT[banco.NV_USG_RESULT=='Alterado']=2\n",
    "#NV_TC_RESULT\n",
    "banco['NV_TC_RESULT_miss'] = banco.NV_TC_RESULT.copy()\n",
    "banco.NV_TC_RESULT_miss[banco.NV_TC_RESULT_miss!=-9] = 0\n",
    "banco.NV_TC_RESULT_miss[banco.NV_TC_RESULT_miss==-9] = 1\n",
    "banco.NV_TC_RESULT[banco.NV_TC_RESULT==-9]=1\n",
    "banco.NV_TC_RESULT[banco.NV_TC_RESULT=='Indeterminado']=0\n",
    "banco.NV_TC_RESULT[banco.NV_TC_RESULT=='Alterado']=1\n",
    "#NV_RM_RESULT\n",
    "banco['NV_RM_RESULT_miss'] = banco.NV_RM_RESULT.copy()\n",
    "banco.NV_RM_RESULT_miss[banco.NV_RM_RESULT_miss!=-9] = 0\n",
    "banco.NV_RM_RESULT_miss[banco.NV_RM_RESULT_miss==-9] = 1\n",
    "banco.NV_RM_RESULT[banco.NV_RM_RESULT==-9]=1\n",
    "banco.NV_RM_RESULT[banco.NV_RM_RESULT=='Indeterminado']=0\n",
    "banco.NV_RM_RESULT[banco.NV_RM_RESULT=='Alterado']=1\n",
    "#missImagem\n",
    "banco.missImagem[banco.missImagem==-9]=0\n",
    "#casegr\n",
    "banco.casegr[banco.casegr=='Discarded']=0\n",
    "banco.casegr[banco.casegr=='Somewhat probable']=1\n",
    "banco.casegr[banco.casegr=='Moderately probable']=2\n",
    "banco.casegr[banco.casegr=='Highly probable']=3\n",
    "#ordenar\n",
    "banco = banco[['sexo','sexo_miss', 'tamanhoCabe', 'tamanhoCabe_miss', 'classFeto', 'classFeto_miss', 'micro', 'micro_miss', 'NV_TC_MICRO', 'NV_Storch','NV_Storch_miss','NV_sifilis', 'NV_sifilis_miss', 'NV_TOXO', 'NV_TOXO_miss', 'NV_CMV', 'NV_CMV_miss', 'NV_DENGUE','NV_DENGUE_miss', 'NV_CHIK','NV_USG_MICRO', 'NV_RM_MICRO', 'NV_USG_RESULT', 'NV_USG_RESULT_miss', 'NV_TC_RESULT', 'NV_TC_RESULT_miss','NV_RM_RESULT','NV_RM_RESULT_miss', 'missImagem', 'casegr', 'classFinal', 'texto']]\n",
    "def similar(tex,mapa):\n",
    "    tex = unidecode.unidecode(tex)\n",
    "    \n",
    "    if tex in mapa:\n",
    "        tex = mapa[tex]\n",
    "    return tex \n",
    "def extrair(tex,mapa,ponto):\n",
    "    token = nlp(tex)\n",
    "    doc = token\n",
    "    token = [word for word in token if word.like_num==False]\n",
    "    token = [word.lemma_.lower().strip() if word.lemma_ != \"-PRO-\" else word.lower_ for word in token]\n",
    "    token = [word for word in token if similar(word,mapa) not in stopPalavras and word not in ponto]\n",
    "    token = [similar(word,mapa) for word in token]\n",
    "    return token, doc\n",
    "mapa = {\n",
    "        'atild':'atilde','apoptose':'reducao','antihvc':'hcv','antihtlv':'htlv','antihiv':'hiv','antihcv':'hcv','aghbs':'hbs','antihbs':'hbs','anti':'anticorpo','anteriormente':'anterior','anteceder':'anterior','antecedente':'anterior','ant':'anterior','anencefalia':'anencefalo','anamalia':'anormal','anormalidade':'anormal','anomalidade':'anormal','anomalia':'anormal','amni':'amniotico','aminiotico':'amniotico','ambulatorio':'ambulatorial','altracoe':'anormal','altercoes':'anormal','aintihcv':'hcv','abdomen':'abdome','abdominal':'abdome','abortar':'aborto','abaixar':'abaixo','acentuacao':'acentuada','acentuar':'acentuada','acentuda':'acentuada','agenesia':'agnesia','acidar':'acido','administracao':'administrar','adoecimento':'doenca','afilamento':'discreto','agravar':'severo','alteracao':'anormal','alcool':'alcoolismo','alcoolica':'alcoolismo','alcoolicas':'alcoolismo','alcoolico':'alcoolismo','alcoollica':'alcoolismo','aumentar':'crescimento','aumento':'crescimento','agrupar':'agrupadas','alargamento':'crescimento','alta':'acentuada','alto':'acentuada','altas':'acentuada','amniotica':'amniotico','anecoica':'anecoico','anormais':'anormal','arterial':'arteria','arterias':'arteria','assimetrica':'assimetria','assimetrico':'assimetria', 'assimetricos':'assimetria','atrofia':'reducao','atrofiar':'reducao','alteracoes':'alteracao','atrial':'atrio','atrofico':'reducao', 'artra':'artropatia','artralgia':'artropatia','artrogripose':'artropatia','articular':'articulacao','ausente':'ausencia','adelgacamento':'reducao','afrofia':'reducao',\n",
    "        'bpm':'bcf','bilitest':'bilirrubina','bebido':'beber','bebiba':'beber','barriga':'abdome','baixar':'reducao','baar':'ebv','bilatera':'bilateral','bilaterais':'bilateral','bilateralmente':'bilateral','branca':'branco',\n",
    "        'cvm':'citomegalovirus','cutis':'cutaneo','cuteneo':'cutaneo','curto':'discreto','cronicas':'cronica','cranio':'cefalico','crak':'crack','contatos':'contato','constatar':'confirmacao','consangu':'consanguinidade','congenito':'congenita','congenitas':'congenita','cong':'congenita','confirmatorio':'confirmacao','comprobatorio':'confirmacao','colecao':'variadas','cmvi':'citomegalovirus','cmvconsta':'citomegalovirus','cmv':'citomegalovirus','citomrgalovirus':'citomegalovirus','citomegalovir':'citomegalovirus','citomegalovi':'citomegalovirus','citomegalosvirus':'citomegalovirus','citomagalovirus':'citomegalovirus','citomeg':'citomegalovirus','circunfer':'circunferencia','circ':'circunferencia','chuikungunya':'chikungunya','chk':'chikungunya','chikungunia':'chikungunya','chikungunha':'chikungunya','chikun':'chikungunya','chiku':'chikungunya','chik':'chikungunya','chicungunya':'chikungunya','cesareo':'cesarea','cerebr':'cerebro','centralizar':'centralizacao','cefalicas':'cefalico','cefalicac':'cefalico','cefalica':'cefalico','cefalecina':'cefalexina','carniana':'cefalico','cardiopatia':'cardiaco','cardiop':'cardiaco','cardiaca':'cardiaco','calficicacoes':'calcificacao','calcificacoesreducao':'calcificacao','calcificacoe':'calcificacao','calcificaco':'calcificacao','calcifi':'calcificacao','calc':'calcificacao','cafalica':'cefalico','cabeca':'cefalico','cabecas':'cefalico','calcificacoes':'calcificacao','calcificar':'calcificacao','calsificacao':'calcificacao','capsular':'capsula','capsulo':'capsula','centrar':'centralizacao','cerebelar':'cerebelo','cerebelarcranio':'cerebelo','cerebrais':'cerebro','cerebral':'cerebro','cerebra':'cerebro', 'circunvolucao':'circunferencia', 'cistica':'cisto','cisticas':'cisto','cistico':'cisto','cistos':'cisto', 'compensataria':'compensatoria','conclusao':'confirmacao','confirmada':'confirmacao','confirmar':'confirmacao','cornar':'corneo','corno':'corneo','cornos':'corneo','corticais':'cortex','cortical':'cortex','corticos':'cortex','corporal':'corpo','craniana':'cranio','craniano':'cranio',\n",
    "        'duplicidade':'duplo','doer':'dor','doen':'doenca','disturbios':'anormal','disponiveis':'disponivel','dilat':'crescimento','dignostico':'confirmacao','dignosticada':'confirmacao','diferente':'anormal','diarreico':'diarreia','diagnosticas':'diagnostico','diagnosticar':'diagnostico','diagnostica':'diagnostico','diagnostic':'diagnostico','diag':'diagnostico','detectavel':'deteccao','detectar':'deteccao','detec':'deteccao','destruicao':'anormal','desaparecer':'reducao','dengu':'dengue','deng':'dengue','degeneracao':'reducao','deformidade':'anormal','deformar':'anormal','deficit':'reducao','deficiencia':'reducao','dandy':'dandy-walker','dondy':'dandy-walker','walker':'dandy-walker','definidas':'confirmacao','definido':'confirmacao','destaca':'acentuada','determinando':'confirmacao','diametro':'circunferencia','diametros':'circunferencia','difusamente':'difusa','difusas':'difusa','difuso':'difusa','dilatar':'crescimento','dilatacao':'crescimento','dimensoes':'dimensao','diminuido':'reducao','diminuicao':'reducao','discreta':'discreto','discretamente':'discreto','dimorfismo':'dismorfismo','distribuidas':'distribuida','distribuir':'distribuida','delgado':'discreto','desproporcao':'anormal','dilatacao':'crescimento','diminuicao':'reducao','disproporcao':'anormal',\n",
    "        'excessivo':'severo','exatema':'exantema','exantematima':'exantema','exantematico':'exantema','exantematicas':'exantema','exantematica':'exantema','evidencia':'confirmacao','etiologia':'etiologico','estreito':'discreto','estabelecido':'confirmacao','espont':'espontaneo','espalhar':'esparso','espaco':'esparso','epstein':'ebv','encefalico':'encefalo','ecograficos':'ecografico','ecografia':'ecografico','ecocardioigrama':'ecocardiograma','ecocardiog':'ecocardiograma','ecocardiagrama':'ecocardiograma','ecogenicidade':'ecogenico','elevar':'acentuada','encefalica':'encefalico','encefalo':'encefalico','esq':'esquerdo','esquer':'esquerdo','encefal':'encefalo','encefalico':'encefalo','enchimento':'crescimento','esparsas':'discreto','esquerda':'esquerdo','esquerdar':'esquerdo','estreitamento':'reducao',\n",
    "        'fumar':'tabaco','fumante':'tabaco','fraco':'discreto','feto2':'fetal','feto1':'fetal','febril':'febre','febrel':'febre','familiar':'familia','falha':'anormal','fechamento':'fechar','fusao':'fechar','face':'facial','feto':'fetal','fissurar':'fissuras','focos':'foco','frontais':'frontal',\n",
    "        'glicose':'glicemia','glic':'glicemia','gicemia':'glicemia','gestcao':'gestacao','gestacional':'gestacao','gestaca':'gestacao','gestac':'gestacao','gesta':'gestacao','gest':'gestacao','giros':'giro','giral':'giro','grosseiras':'grosseiro',\n",
    "        'hsag':'hbs','hivs':'hiv','hipoxico':'hipoxia','hipotireioidismo':'hipotireoidismo','hipoplasicas':'hipoplasico','hipertesnao':'hipertensao','hipertenso':'hipertensao','hipertensivo':'hipertensao','hiperextensao':'crescimento','hiperestensao':'crescimento','heterogenea':'heterogeneo','herpes':'hsv','hepb':'hbs','hepatitec':'hcv','hepatiteb':'hbs','hepaptite':'hepatite','hemmorragia':'hemorragia','hemoglobia':'hemoglobina','hematrocrito':'hematocrito','hbc':'hcv','hbshg':'hbs','hbsg':'hbs','hbsag':'hbs','hbcv':'hcv','habitual':'comumente','hemisferios':'hemisferio','hemorragico':'hemorragia','hidroanencefalia':'hidrocefalia','hidranencefalia':'hidrocefalia','hiperecoicos':'hiperecoicas','hipodensa':'hipodensidade','hipoplasia':'reducao','holoprosecefalia':'holoprosencefalia',\n",
    "        'irritabilida':'irritabilidade','irradiar':'esparso','intrautero':'intrauterino','intrauterinas':'intrauterino','intrauterina':'intrauterino','intracranianas':'intracraniana','intracerebral':'intracraniana','intercorrencias':'intercorrencia','intercorr':'intercorrencia','intenso':'severo','insuficiente':'reducao','insuficiencia':'reducao','infec':'infeccao','inespecificas':'inespecifico','indeterminar':'inderteminado','incomple':'incompleto','incomp':'incompleto','inchaco':'crescimento','implatacao':'implantacao','ilicitas':'ilicito','igm0':'igm','igg10':'igg','identificacao':'confirmacao','icterico':'ictericia','involucao':'reducao','inespecfico':'inespecifico','inespecificos':'inespecifico','inexpecifica':'inespecifico','infecciosa':'infeccao','infeccioso':'infeccao','injuria':'anormal','irregular':'anormal','interior':'interno','isquemica':'isquemico',\n",
    "        'luxacao':'crescimento','linf':'linfocitos','leuco':'leucocito','leucocitos18':'leucocito','leucocitos':'leucocito','lesao':'anormal','lacerar':'anormal','laterais':'lateral','lisenfalia':'lisencefalia','later':'lateral','lados':'lateral','lineares':'linear','lisencefalias':'lisencefalia','lisencefalicas':'lisencefalia','linha':'linear','lobo':'lobos','lobolos':'lobos','localizar':'localizadas',\n",
    "        'morfologico':'morfologia','mon':'monocitos','minimo':'reducao','microoftalmia':'microftalmia','microcelafia':'microcefalia','microcefali':'microcefalia','micr':'microcefalia','micro':'microcefalia','micricefalia':'microcefalia','microcalcificacao':'calcificacao','mental':'cognitivo','medicar':'medicamentar','medicamento':'medicamentar','medicacoes':'medicamentar','medicacao':'medicamentar','mediar':'medicacao','mediante':'medicacao','malformaca':'malformacao','malforma':'malformacao','malfor':'malformacao','malfomalcao':'malformacao','magnetico':'rm','magnetica':'rm','macrocalcificacoes':'calcificacao','microcalcificacoes':'calcificacao','microcefalico':'microcefalia','microcrania':'microcefalia','morfas':'morfologico','morfologica':'morfologico','multiplas':'variadas','multiplos':'variadas','multiplo':'variadas',\n",
    "        'normalidade':'negativo','normalida':'negativo','normal':'negativo','norm':'negativo','nervosoatipico':'nervoso','nenhum':'negativo','negativar':'negativo','negati':'negativo','neg':'negativo','necessarios':'necessitar','necessario':'necessitar','nascido':'nascimento','nascer':'nascimento','nasc':'nascimento','nasal':'nariz','nuclear':'nucleo','nucleos':'nucleo',\n",
    "        'ovalar':'oval','oligodramnia':'oligodramnio','oligamnio':'oligodramnio','ok':'negativo','oftamologica':'oftalmologia','oftalmologico':'oftalmologia','ocupitais':'occipital','occiptal':'occipital','obstetrico':'obstetrica','obstretica':'obstetrica','obstetri':'obstetrica','obstetra':'obstetrica','occipitais':'occipital','oligoamnio':'oligodramnio','oligodremnia':'oligodramnio',\n",
    "        'plaq':'plaqueta','purido':'prurir','puerpera':'puerperio','puericultur':'puericultura','pruriginoso':'prurir','proteinas':'proteina','proseguir':'prosseguir','proliferar':'crescimento','presentar':'presenca','preenchimento':'preencher','possuir':'positivo','positivar':'positivo','pos':'positivo','polihidraminia':'polidramnio','persistencia':'persistente','perim':'perimetro','percetil':'percentil','patologico':'anormal','patologia':'anormal','parvo':'parvovirus','parequimatosas':'parenquima','parequima':'parenquima','parenqu':'parenquima','paremica':'parenquima','parametros':'padrao','parametro':'padrao','padr':'padrao','paquigirico':'paquigiria','parcialmente':'discreto','parcial':'discreto','paremquima':'parenquima','parenquimatosas':'parenquima','parenquimatoso':'parenquima','pariental':'parietal','pequenas':'discreto','periventricularaes':'periventricular','periventriculares':'periventricular','podend':'podendo','porcoes':'porcao','predominando':'acentuada','predominio':'acentuada','predominantemente':'acentuada','proeminencia':'acentuada','proeminente':'acentuada','perda':'ausencia','parietais':'parietal','pequena':'discreto','pequeno':'discreto','posteriores':'posterior',\n",
    "        'quadruplo':'quadruplicar',\n",
    "        'rinite':'alergico','rgico':'alergico','respiratorio':'respiracao','repetitivo':'repeticao','rubeolar':'rubeolar','rubeolaigm':'rubeola','rub':'rubeola','rubeol':'rubeola','rnm':'rm','rmm':'rm','restri':'restricao','ressonancia':'rm','resist':'resistencia','regante':'positivo','reg':'positivo','redu':'reducao','reativo':'positivo','realizdos':'realizar','realizacao':'realizar','realiz':'realizar','realiozados':'realizar','realiazados':'realizar','reagnete':'positivo','reagentetoxoplasmose':'toxo','reagenstes':'positivo','reagen':'positivo','reag':'positivo','rapidos':'rapido','radiar':'crescimento','reabsorcao':'reducao','regioes':'regiao','reduzir':'reducao','realizada':'realizar','realizou':'realizar','remanescente':'discreto',\n",
    "        'suspeitar':'suspeito','significativo':'severo','suseptivel':'suscetivel','sucorticais':'subcortical','subcorticais':'subcortical','stoch':'storch','sorologicos':'sorologia','sorologico':'sorologia','sorologai':'sorologia','sorol':'sorologia','sonografico':'ultrasonografia','sonografias':'ultrasonografia','sisilis':'sifilis','sintomatologia':'sintoma','sindromica':'sindrome','sindrmoe':'sindrome','sinalizacao':'sinal','sifili':'sifilis','sifiles':'sifilis','sifiis':'sifilis','scaner':'scanner','sanguineo':'sangue','sinais':'sinal','segmento':'segmentar','seguimento':'segmentar','significativa':'severo','sequelar':'anormal','sequela':'anormal','simetrica':'simetrico','sulcos':'sulco','supratentarial':'supratentorial','supratentoreal':'supratentorial','supratentoriais':'supratentorial',\n",
    "        'trasnsfontanela':'transfontanela','transfontonela':'transfontanela','transfontene':'transfontanela','transfontanelar':'transfontanela','transfontalena':'transfontanela','transfonta':'transfontanela','transfont':'transfontanela','transfon':'transfontanela','toxoplsmose':'toxo','toxoplasmpose':'toxo','toxoplasmose':'toxo','toxoplasmo':'toxo','toxoplasma':'toxo','toxoplasm':'toxo','toxoplamose':'toxo','toxopla':'toxo','toxiinfeccao':'toxo','tox':'toxo','torch':'storch','toracico':'torax','tomograficos':'tomografia','tomografico':'tomografia','tabagista':'tabaco','tabagismo':'tabaco','talamica':'talamo','talar':'talamo','tenue':'discreto','tenues':'discreto','temporais':'temporal','tentoriais':'temporal','torchs':'torch','torto':'anormal',\n",
    "        'ustf':'transfontanela','ust':'transfontanela','usgtransfontonela':'transfontanela','usgtf':'transfontanela','usgt':'transfontanela','usgft':'transfontanela','usg':'ultrasonografia','usft':'transfontanela','usf':'ultrasonografia','ultrassons':'ultrasonografia','ultrassonograficos':'ultrasonografia','ultrassonografias':'ultrasonografia','ultrassonografia':'ultrasonografia','ultrassonog':'ultrasonografia','ultrassongrafia':'ultrasonografia','ultrasson':'ultrasonografia','ultrassom':'ultrasonografia','ultrasso':'ultrasonografia','ultrasonografias':'ultrasonografia','ultrasom':'ultrasonografia','ultras':'ultrasonografia',\n",
    "        'virose':'virus','viral':'virus','ventroculomegalia':'ventriculomegalia','ventriculomagalia':'ventriculomegalia','vasoculopatia':'vasculopatia','variar':'variadas','varginal':'vagina','vaginal':'vagina','vacinal':'vacinar','variante':'variadas','ventricomegalia':'ventriculomegalia','ventricular':'ventriculo','ventriculos':'ventriculo','venix':'vermix','vermis':'vermix','vernix':'vermix','vasculopatias':'vasoculopatia','ventriculomagele':'ventroculomegalia','ventriculomegalia':'ventroculomegalia','ventricumegalia':'ventroculomegalia','ventriculomegalia':'ventroculomegalia','ventroculomegalia':'ventriculomegalia','volumar':'volume','volumetrica':'volume','volumetrico':'volume',\n",
    "        'walter':'dandy-walker',\n",
    "        'zikavirus':'zika','zica':'zika','zi':'zika'\n",
    "        }\n",
    "\n",
    "\n",
    "nlp = spacy.load(\"pt_core_news_sm\")\n",
    "ponto = string.punctuation\n",
    "stopPalavras = list(STOP_WORDS)\n",
    "stopPalavras.append(\"06h\")\n",
    "stopPalavras.append(\"07h\")\n",
    "stopPalavras.append(\"0a\")\n",
    "stopPalavras.append(\"10dias\")\n",
    "stopPalavras.append(\"10ui\")\n",
    "stopPalavras.append(\"110x70\")\n",
    "stopPalavras.append(\"12d\")\n",
    "stopPalavras.append(\"12s\")\n",
    "stopPalavras.append(\"13s\")\n",
    "stopPalavras.append(\"14sm\")\n",
    "stopPalavras.append(\"15sm\")\n",
    "stopPalavras.append(\"17h\")\n",
    "stopPalavras.append(\"18s\")\n",
    "stopPalavras.append(\"1dia\")\n",
    "stopPalavras.append(\"1gg\")\n",
    "stopPalavras.append(\"1gm\")\n",
    "stopPalavras.append(\"1odose\")\n",
    "stopPalavras.append(\"1ot\")\n",
    "stopPalavras.append(\"200ui\")\n",
    "stopPalavras.append(\"200x190\")\n",
    "stopPalavras.append(\"20150vdrl\")\n",
    "stopPalavras.append(\"20mcg\")\n",
    "stopPalavras.append(\"20s\")\n",
    "stopPalavras.append(\"20s6d\")\n",
    "stopPalavras.append(\"21dp\")\n",
    "stopPalavras.append(\"21sm\")\n",
    "stopPalavras.append(\"22s\")\n",
    "stopPalavras.append(\"23s\")\n",
    "stopPalavras.append(\"23sm\")\n",
    "stopPalavras.append(\"24h\")\n",
    "stopPalavras.append(\"25s\")\n",
    "stopPalavras.append(\"26semanas\")\n",
    "stopPalavras.append(\"28sem\")\n",
    "stopPalavras.append(\"2d\")\n",
    "stopPalavras.append(\"2dp\")\n",
    "stopPalavras.append(\"2sm\")\n",
    "stopPalavras.append(\"2tri\")\n",
    "stopPalavras.append(\"30s\")\n",
    "stopPalavras.append(\"31s\")\n",
    "stopPalavras.append(\"33sem\")\n",
    "stopPalavras.append(\"34s\")\n",
    "stopPalavras.append(\"36s\")\n",
    "stopPalavras.append(\"36s3d\")\n",
    "stopPalavras.append(\"36sm\")\n",
    "stopPalavras.append(\"37s1d\")\n",
    "stopPalavras.append(\"37s2d\")\n",
    "stopPalavras.append(\"37s5d\")\n",
    "stopPalavras.append(\"38oc\")\n",
    "stopPalavras.append(\"38s1d\")\n",
    "stopPalavras.append(\"38s\")\n",
    "stopPalavras.append(\"38sem\")\n",
    "stopPalavras.append(\"38semanas\")\n",
    "stopPalavras.append(\"39sm\")\n",
    "stopPalavras.append(\"39s\")\n",
    "stopPalavras.append(\"38s\")\n",
    "stopPalavras.append(\"3omes\")\n",
    "stopPalavras.append(\"3tri\")\n",
    "stopPalavras.append(\"48h\")\n",
    "stopPalavras.append(\"4sm\")\n",
    "stopPalavras.append(\"51ui\")\n",
    "stopPalavras.append(\"5ag\")\n",
    "stopPalavras.append(\"6consultas\")\n",
    "stopPalavras.append(\"6d\")\n",
    "stopPalavras.append(\"9797ba\")\n",
    "stopPalavras.append(\"a0\")\n",
    "stopPalavras.append(\"aas\")\n",
    "stopPalavras.append(\"ab\")\n",
    "stopPalavras.append(\"abar\")\n",
    "stopPalavras.append(\"abd\")\n",
    "stopPalavras.append(\"abril\")\n",
    "stopPalavras.append(\"absag\")\n",
    "stopPalavras.append(\"ac\")\n",
    "stopPalavras.append(\"achar\")\n",
    "stopPalavras.append(\"acirc\")\n",
    "stopPalavras.append(\"acm\")\n",
    "stopPalavras.append(\"acolhido\")\n",
    "stopPalavras.append(\"acolhimento\")\n",
    "stopPalavras.append(\"acometer\")\n",
    "stopPalavras.append(\"acompanhamento\")\n",
    "stopPalavras.append(\"acompanhante\")\n",
    "stopPalavras.append(\"acompanhar\")\n",
    "stopPalavras.append(\"adequadamente\")\n",
    "stopPalavras.append(\"adm\")\n",
    "stopPalavras.append(\"adm\")\n",
    "stopPalavras.append(\"admissao\")\n",
    "stopPalavras.append(\"admissional\")\n",
    "stopPalavras.append(\"admitir\")\n",
    "stopPalavras.append(\"aceito\")\n",
    "stopPalavras.append(\"adequar\")\n",
    "stopPalavras.append(\"adicionar\")\n",
    "stopPalavras.append(\"administrar\")\n",
    "stopPalavras.append(\"adquirir\")\n",
    "stopPalavras.append(\"af\")\n",
    "stopPalavras.append(\"afirmar\")\n",
    "stopPalavras.append(\"ag\")\n",
    "stopPalavras.append(\"agendar\")\n",
    "stopPalavras.append(\"agente\")\n",
    "stopPalavras.append(\"aghabs\")\n",
    "stopPalavras.append(\"aguardar\")\n",
    "stopPalavras.append(\"aig\")\n",
    "stopPalavras.append(\"aina\")\n",
    "stopPalavras.append(\"a1\")\n",
    "stopPalavras.append(\"alagoinhas\")\n",
    "stopPalavras.append(\"albert\")\n",
    "stopPalavras.append('align\"justify')\n",
    "stopPalavras.append('alves')\n",
    "stopPalavras.append('am')\n",
    "stopPalavras.append('ambigua')\n",
    "stopPalavras.append('amostrar')\n",
    "stopPalavras.append('analisar')\n",
    "stopPalavras.append('andamento')\n",
    "stopPalavras.append('anit')\n",
    "stopPalavras.append('ano')\n",
    "stopPalavras.append('anotacao')\n",
    "stopPalavras.append('aometodo')\n",
    "stopPalavras.append('ap')\n",
    "stopPalavras.append('aparentar')\n",
    "stopPalavras.append('apo')\n",
    "stopPalavras.append('apr')\n",
    "stopPalavras.append('aprese')\n",
    "stopPalavras.append('aproximadamente')\n",
    "stopPalavras.append('arlinda')\n",
    "stopPalavras.append('ass')\n",
    "stopPalavras.append('at')\n",
    "stopPalavras.append('assistencia')\n",
    "stopPalavras.append('assistente')\n",
    "stopPalavras.append('atar')\n",
    "stopPalavras.append('atb')\n",
    "stopPalavras.append('atendido')\n",
    "stopPalavras.append('atendimento')\n",
    "stopPalavras.append('ater')\n",
    "stopPalavras.append('atrasar')\n",
    "stopPalavras.append('atravez')\n",
    "stopPalavras.append('atualizacao')\n",
    "stopPalavras.append('atualizado')\n",
    "stopPalavras.append('aume')\n",
    "stopPalavras.append('aus')\n",
    "stopPalavras.append('ausentar')\n",
    "stopPalavras.append('automedicacao')\n",
    "stopPalavras.append('av')\n",
    "stopPalavras.append('avaliar')\n",
    "stopPalavras.append('b')\n",
    "stopPalavras.append('bebr')\n",
    "stopPalavras.append('born')\n",
    "stopPalavras.append('bo')\n",
    "stopPalavras.append('br')\n",
    "stopPalavras.append('buscar')\n",
    "stopPalavras.append('ca27')\n",
    "stopPalavras.append('ca28')\n",
    "stopPalavras.append('caber')\n",
    "stopPalavras.append('caetano')\n",
    "stopPalavras.append('caf')\n",
    "stopPalavras.append('camacari')\n",
    "stopPalavras.append('capibarib')\n",
    "stopPalavras.append('captar')\n",
    "stopPalavras.append('caracterizar')\n",
    "stopPalavras.append('caratcerizada')\n",
    "stopPalavras.append('caribe')\n",
    "stopPalavras.append('carlos')\n",
    "stopPalavras.append('cartao')\n",
    "stopPalavras.append('carteiro')\n",
    "stopPalavras.append('casar')\n",
    "stopPalavras.append('caso')\n",
    "stopPalavras.append('causar')\n",
    "stopPalavras.append('chegar')\n",
    "stopPalavras.append('chorar')\n",
    "stopPalavras.append('cid')\n",
    "stopPalavras.append('cidade')\n",
    "stopPalavras.append('cigarro')\n",
    "stopPalavras.append('citar')\n",
    "stopPalavras.append('civil')\n",
    "stopPalavras.append('clareza')\n",
    "stopPalavras.append('classificacao')\n",
    "stopPalavras.append('classificar')\n",
    "stopPalavras.append('clinicamente')\n",
    "stopPalavras.append('clinicar')\n",
    "stopPalavras.append('clinico')\n",
    "stopPalavras.append('coeficiente')\n",
    "stopPalavras.append('coleta')\n",
    "stopPalavras.append('coletadas')\n",
    "stopPalavras.append('coletado')\n",
    "stopPalavras.append('coletados')\n",
    "stopPalavras.append('coletou')\n",
    "stopPalavras.append('colher')\n",
    "stopPalavras.append('colhido')\n",
    "stopPalavras.append('comentario')\n",
    "stopPalavras.append('comer')\n",
    "stopPalavras.append('comp')\n",
    "stopPalavras.append('companheiro')\n",
    "stopPalavras.append('comparecer')\n",
    "stopPalavras.append('compensatoria')\n",
    "stopPalavras.append('compensatorio')\n",
    "stopPalavras.append('comprimento')\n",
    "stopPalavras.append('computar')\n",
    "stopPalavras.append('conhecer')\n",
    "stopPalavras.append('conjugal')\n",
    "stopPalavras.append('conjuge')\n",
    "stopPalavras.append('conseguir')\n",
    "stopPalavras.append('consumir')\n",
    "stopPalavras.append('contar')\n",
    "stopPalavras.append('continuar')\n",
    "stopPalavras.append('correspondente')\n",
    "stopPalavras.append('descobrir')\n",
    "stopPalavras.append('descrever')\n",
    "stopPalavras.append('descrito')\n",
    "stopPalavras.append('devidamente')\n",
    "stopPalavras.append('dia018')\n",
    "stopPalavras.append('dia16')\n",
    "stopPalavras.append('diariamente')\n",
    "stopPalavras.append('dimens')\n",
    "stopPalavras.append('dimensao')\n",
    "stopPalavras.append('dirigir')\n",
    "stopPalavras.append('div')\n",
    "stopPalavras.append('documento')\n",
    "stopPalavras.append('dosar')\n",
    "stopPalavras.append('dose')\n",
    "stopPalavras.append('doutor')\n",
    "stopPalavras.append('dr')\n",
    "stopPalavras.append('duarte')\n",
    "stopPalavras.append('durar')\n",
    "stopPalavras.append('duvidar')\n",
    "stopPalavras.append('efeito')\n",
    "stopPalavras.append('elisa')\n",
    "stopPalavras.append('email')\n",
    "stopPalavras.append('encaminh')\n",
    "stopPalavras.append('encaminhamento')\n",
    "stopPalavras.append('encaminhar')\n",
    "stopPalavras.append('enfermeiro')\n",
    "stopPalavras.append('engravidar')\n",
    "stopPalavras.append('ensinar')\n",
    "stopPalavras.append('entanto')\n",
    "stopPalavras.append('enviar')\n",
    "stopPalavras.append('episodio')\n",
    "stopPalavras.append('epoca')\n",
    "stopPalavras.append('equipar')\n",
    "stopPalavras.append('escolaridade')\n",
    "stopPalavras.append('espacar')\n",
    "stopPalavras.append('especialmente')\n",
    "stopPalavras.append('especificar')\n",
    "stopPalavras.append('esperar')\n",
    "stopPalavras.append('esquema')\n",
    "stopPalavras.append('estudo')\n",
    "stopPalavras.append('etc')\n",
    "stopPalavras.append('eunapolis')\n",
    "stopPalavras.append('exam')\n",
    "stopPalavras.append('expediente')\n",
    "stopPalavras.append('favorecer')\n",
    "stopPalavras.append('fem')\n",
    "stopPalavras.append('feminino')\n",
    "stopPalavras.append('ficar')\n",
    "stopPalavras.append('filho')\n",
    "stopPalavras.append('formular')\n",
    "stopPalavras.append('freitas')\n",
    "stopPalavras.append('fundamental')\n",
    "stopPalavras.append('gilmara')\n",
    "stopPalavras.append('gravidez')\n",
    "stopPalavras.append('gravido')\n",
    "stopPalavras.append('gusmao')\n",
    "stopPalavras.append('hipotese')\n",
    "stopPalavras.append('histori')\n",
    "stopPalavras.append('historia')\n",
    "stopPalavras.append('historiar')\n",
    "stopPalavras.append('historico')\n",
    "stopPalavras.append('hoje')\n",
    "stopPalavras.append('horar')\n",
    "stopPalavras.append('hospital')\n",
    "stopPalavras.append('hospitalar')\n",
    "stopPalavras.append('hospitalizacao')\n",
    "stopPalavras.append('idade')\n",
    "stopPalavras.append('id')\n",
    "stopPalavras.append('ig18')\n",
    "stopPalavras.append('ig37')\n",
    "stopPalavras.append('ig9')\n",
    "stopPalavras.append('ignorar')\n",
    "stopPalavras.append('igual')\n",
    "stopPalavras.append('impressao')\n",
    "stopPalavras.append('indice')\n",
    "stopPalavras.append('infectologista')\n",
    "stopPalavras.append('informacao')\n",
    "stopPalavras.append('informar')\n",
    "stopPalavras.append('ingerir')\n",
    "stopPalavras.append('instituicao')\n",
    "stopPalavras.append('instituto')\n",
    "stopPalavras.append('internacao')\n",
    "stopPalavras.append('internamento')\n",
    "stopPalavras.append('internar')\n",
    "stopPalavras.append('investigacao')\n",
    "stopPalavras.append('investigar')\n",
    "stopPalavras.append('irar')\n",
    "stopPalavras.append('irm')\n",
    "stopPalavras.append('irma')\n",
    "stopPalavras.append('irmao')\n",
    "stopPalavras.append('itabaiana')\n",
    "stopPalavras.append('jaguare')\n",
    "stopPalavras.append('janeiro')\n",
    "stopPalavras.append('janine')\n",
    "stopPalavras.append('joao')\n",
    "stopPalavras.append('jose')\n",
    "stopPalavras.append('josy')\n",
    "stopPalavras.append('julho')\n",
    "stopPalavras.append('juliete')\n",
    "stopPalavras.append('junho')\n",
    "stopPalavras.append('juntamente')\n",
    "stopPalavras.append('kg')\n",
    "stopPalavras.append('laboartoriais')\n",
    "stopPalavras.append('laboratorial')\n",
    "stopPalavras.append('laboratorias')\n",
    "stopPalavras.append('laboratorio')\n",
    "stopPalavras.append('lacen')\n",
    "stopPalavras.append('lactente')\n",
    "stopPalavras.append('laudo')\n",
    "stopPalavras.append('lauro')\n",
    "stopPalavras.append('lembrar')\n",
    "stopPalavras.append('levantar')\n",
    "stopPalavras.append('levar')\n",
    "stopPalavras.append('like')\n",
    "stopPalavras.append('m30')\n",
    "stopPalavras.append('macho')\n",
    "stopPalavras.append('mail')\n",
    "stopPalavras.append('maio')\n",
    "stopPalavras.append('major')\n",
    "stopPalavras.append('mamao')\n",
    "stopPalavras.append('maranhao')\n",
    "stopPalavras.append('marco')\n",
    "stopPalavras.append('masculino')\n",
    "stopPalavras.append('materni')\n",
    "stopPalavras.append('maternidade')\n",
    "stopPalavras.append('materno')\n",
    "stopPalavras.append('meireles')\n",
    "stopPalavras.append('medir')\n",
    "stopPalavras.append('mensurar')\n",
    "stopPalavras.append('mencao')\n",
    "stopPalavras.append('merecer')\n",
    "stopPalavras.append('mg')\n",
    "stopPalavras.append('mim')\n",
    "stopPalavras.append('ml')\n",
    "stopPalavras.append('mm3')\n",
    "stopPalavras.append('mmhg')\n",
    "stopPalavras.append('morador')\n",
    "stopPalavras.append('mostrar')\n",
    "stopPalavras.append('municipal')\n",
    "stopPalavras.append('municipio')\n",
    "stopPalavras.append('municpal')\n",
    "stopPalavras.append('mutirao')\n",
    "stopPalavras.append('nome')\n",
    "stopPalavras.append('notar')\n",
    "stopPalavras.append('notfic')\n",
    "stopPalavras.append('notificacao')\n",
    "stopPalavras.append('notificar')\n",
    "stopPalavras.append('noto')\n",
    "stopPalavras.append('novembro')\n",
    "stopPalavras.append('nph')\n",
    "stopPalavras.append('o80')\n",
    "stopPalavras.append('observacao')\n",
    "stopPalavras.append('observar')\n",
    "stopPalavras.append('obter')\n",
    "stopPalavras.append('obtido')\n",
    "stopPalavras.append('ocorrer')\n",
    "stopPalavras.append('odor')\n",
    "stopPalavras.append('ofertar')\n",
    "stopPalavras.append('ola')\n",
    "stopPalavras.append('osvaldo')\n",
    "stopPalavras.append('outubro')\n",
    "stopPalavras.append('p')\n",
    "stopPalavras.append('p0')\n",
    "stopPalavras.append('p50')\n",
    "stopPalavras.append('p5915')\n",
    "stopPalavras.append('p706')\n",
    "stopPalavras.append('pa')\n",
    "stopPalavras.append('pai')\n",
    "stopPalavras.append('paiente')\n",
    "stopPalavras.append('pantanal')\n",
    "stopPalavras.append('paraiba')\n",
    "stopPalavras.append('parceiro')\n",
    "stopPalavras.append('parecer')\n",
    "stopPalavras.append('patente')\n",
    "stopPalavras.append('paulo')\n",
    "stopPalavras.append('pc')\n",
    "stopPalavras.append('pedir')\n",
    "stopPalavras.append('pedriatras')\n",
    "stopPalavras.append('perceber')\n",
    "stopPalavras.append('perceptivel')\n",
    "stopPalavras.append('pereira')\n",
    "stopPalavras.append('periodo')\n",
    "stopPalavras.append('permitir')\n",
    "stopPalavras.append('pescador')\n",
    "stopPalavras.append('pesquisar')\n",
    "stopPalavras.append('pessoa')\n",
    "stopPalavras.append('pessoal')\n",
    "stopPalavras.append('planilha')\n",
    "stopPalavras.append('podendo')\n",
    "stopPalavras.append('policia')\n",
    "stopPalavras.append('possibilidade')\n",
    "stopPalavras.append('preescrito')\n",
    "stopPalavras.append('preferir')\n",
    "stopPalavras.append('presidiario')\n",
    "stopPalavras.append('primar')\n",
    "stopPalavras.append('profissional')\n",
    "stopPalavras.append('prontuario')\n",
    "stopPalavras.append('prontuarios')\n",
    "stopPalavras.append('protocolo')\n",
    "stopPalavras.append('protuario')\n",
    "stopPalavras.append('quaestionario')\n",
    "stopPalavras.append('quantidade')\n",
    "stopPalavras.append('questionario')\n",
    "stopPalavras.append('realata')\n",
    "stopPalavras.append('receber')\n",
    "stopPalavras.append('recife')\n",
    "stopPalavras.append('recordar')\n",
    "stopPalavras.append('registrar')\n",
    "stopPalavras.append('registro')\n",
    "stopPalavras.append('relatar')\n",
    "stopPalavras.append('relato')\n",
    "stopPalavras.append('relatorio')\n",
    "stopPalavras.append('revelar')\n",
    "stopPalavras.append('revisao')\n",
    "stopPalavras.append('roberto')\n",
    "stopPalavras.append('sair')\n",
    "stopPalavras.append('sala')\n",
    "stopPalavras.append('salvador')\n",
    "stopPalavras.append('samara')\n",
    "stopPalavras.append('santo')\n",
    "stopPalavras.append('secretariar')\n",
    "stopPalavras.append('secundario')\n",
    "stopPalavras.append('seguinte')\n",
    "stopPalavras.append('seguir')\n",
    "stopPalavras.append('semanal')\n",
    "stopPalavras.append('semanss')\n",
    "stopPalavras.append('semestre')\n",
    "stopPalavras.append('servico')\n",
    "stopPalavras.append('setembro')\n",
    "stopPalavras.append('silvar')\n",
    "stopPalavras.append('silviano')\n",
    "stopPalavras.append('soicitado')\n",
    "stopPalavras.append('solange')\n",
    "stopPalavras.append('soliciotado')\n",
    "stopPalavras.append('solicitar')\n",
    "stopPalavras.append('solicitodo')\n",
    "stopPalavras.append('solteiro')\n",
    "stopPalavras.append('souza')\n",
    "stopPalavras.append('sr')\n",
    "stopPalavras.append('style\"font')\n",
    "stopPalavras.append('sul')\n",
    "stopPalavras.append('sumario')\n",
    "stopPalavras.append('resultar')\n",
    "stopPalavras.append('tecnica')\n",
    "stopPalavras.append('tecnicamente')\n",
    "stopPalavras.append('tecnico')\n",
    "stopPalavras.append('tel')\n",
    "stopPalavras.append('telefonar')\n",
    "stopPalavras.append('telefonico')\n",
    "stopPalavras.append('telefonicos')\n",
    "stopPalavras.append('testar')\n",
    "stopPalavras.append('tio')\n",
    "stopPalavras.append('tornar')\n",
    "stopPalavras.append('trabalhar')\n",
    "stopPalavras.append('transcorrer')\n",
    "stopPalavras.append('transcrever')\n",
    "stopPalavras.append('transferir')\n",
    "stopPalavras.append('tratamento')\n",
    "stopPalavras.append('tratar')\n",
    "stopPalavras.append('trimestre')\n",
    "stopPalavras.append('unidade')\n",
    "stopPalavras.append('universitario')\n",
    "stopPalavras.append('usuaria')\n",
    "stopPalavras.append('usuario')\n",
    "stopPalavras.append('utilizar')\n",
    "stopPalavras.append('valenca')\n",
    "stopPalavras.append('vestir')\n",
    "stopPalavras.append('viagem')\n",
    "stopPalavras.append('vigilancia')\n",
    "stopPalavras.append('vir')\n",
    "stopPalavras.append('visitar')\n",
    "\n",
    "stopPalavras.append(\"a\")\n",
    "stopPalavras.append(\"e\")\n",
    "stopPalavras.append(\"o\")\n",
    "stopPalavras.append(\"m\")\n",
    "stopPalavras.append(\"d\")\n",
    "stopPalavras.append(\"v\")\n",
    "stopPalavras.append(\"l\")\n",
    "stopPalavras.append(\"algum\")\n",
    "stopPalavras.append(\"apresentando\")\n",
    "stopPalavras.append(\"apresentar\")\n",
    "stopPalavras.append(\"aspecto\")\n",
    "stopPalavras.append(\"aspectos\")\n",
    "stopPalavras.append(\"associado\")\n",
    "stopPalavras.append(\"associar\")\n",
    "stopPalavras.append(\"atual\")\n",
    "stopPalavras.append(\"avaliacao\")\n",
    "stopPalavras.append(\"biometria\")\n",
    "stopPalavras.append(\"aparente\")\n",
    "stopPalavras.append(\"caracteristico\")\n",
    "stopPalavras.append(\"caracteriza-se\")\n",
    "stopPalavras.append(\"caracterizacao\")\n",
    "stopPalavras.append(\"cm\")\n",
    "stopPalavras.append(\"compativeis\")\n",
    "stopPalavras.append(\"compativel\")\n",
    "stopPalavras.append(\"comunicar\")\n",
    "stopPalavras.append(\"considerar\")\n",
    "stopPalavras.append(\"corresponder\")\n",
    "stopPalavras.append(\"datada\")\n",
    "stopPalavras.append(\"dezembro\")\n",
    "stopPalavras.append(\"dia\")\n",
    "stopPalavras.append(\"especificacao\")\n",
    "stopPalavras.append(\"havia\")\n",
    "stopPalavras.append(\"moderar\")\n",
    "stopPalavras.append(\"provavelmente\")\n",
    "stopPalavras.append(\"relacionar\")\n",
    "stopPalavras.append(\"relacionado\")\n",
    "stopPalavras.append(\"representar\")\n",
    "stopPalavras.append(\"sugestivo\")\n",
    "stopPalavras.append(\"umar\")\n",
    "stopPalavras.append(\"visibilizacao\")\n",
    "stopPalavras.append(\"visto\")\n",
    "stopPalavras.append(\"visualizar\")\n",
    "stopPalavras.append(\"ultima\")\n",
    "stopPalavras.append(\"unica\")\n",
    "stopPalavras.append(\"unico\")\n",
    "stopPalavras.append(\"voluntario\")\n",
    "stopPalavras.append(\"evidenciar\")\n",
    "stopPalavras.append(\"exame\")\n",
    "stopPalavras.append(\"imagem\")\n",
    "stopPalavras.append(\"indicar\")\n",
    "stopPalavras.append(\"obs\")\n",
    "stopPalavras.append(\"sugerimos\")\n",
    "stopPalavras.append(\"sugerir\")\n",
    "stopPalavras.append(\"semana\")\n",
    "stopPalavras.append(\"situacao\")\n",
    "stopPalavras.append(\"sobretudo\")\n",
    "stopPalavras.append(\"substanciar\")\n",
    "stopPalavras.append(\"sugerindo\")\n",
    "stopPalavras.append(\"assumir\")\n",
    "stopPalavras.append(\"completar\")\n",
    "stopPalavras.append(\"derecionado\")\n",
    "stopPalavras.append(\"durante\")\n",
    "stopPalavras.append(\"encontrar\")\n",
    "stopPalavras.append(\"esclarecer\")\n",
    "stopPalavras.append(\"esperado\")\n",
    "stopPalavras.append(\"estudar\")\n",
    "stopPalavras.append(\"evidente\")\n",
    "stopPalavras.append(\"notadamente\")\n",
    "stopPalavras.append(\"observam-se\")\n",
    "stopPalavras.append('identificar')\n",
    "stopPalavras.append('outro')\n",
    "stopPalavras.append('paciente')\n",
    "stopPalavras.append('provavel')\n",
    "stopPalavras = [similar(word,mapa) for word in stopPalavras]\n",
    "    \n",
    "texto = banco.texto\n",
    "texto =texto.tolist()\n",
    "del banco['classFinal']\n",
    "YDf = banco.casegr\n",
    "XDf = banco.copy()\n",
    "del XDf['casegr']\n",
    "del XDf['texto']\n",
    "col = XDf.columns\n",
    "XDf = MinMaxScaler().fit_transform(XDf)\n",
    "XDf=pd.DataFrame(XDf)\n",
    "XDf.columns = col\n",
    "XDf['texto'] = texto\n",
    "X_train, X_test,y_train, y_test = train_test_split(XDf, YDf, train_size=0.8,random_state=seed,stratify=YDf)\n",
    "texto_t = X_train.texto\n",
    "del X_train['texto']\n",
    "texto_v = X_test.texto\n",
    "del X_test['texto']\n",
    "\n",
    "docs_total= []\n",
    "docs_t = []\n",
    "docs_v= []\n",
    "lista_total = []\n",
    "lista_t = []\n",
    "lista_v = []\n",
    "#total\n",
    "for t in texto:\n",
    "    tokens, doc = extrair(t,mapa,ponto)\n",
    "    docs_total.append(doc)\n",
    "    lista_total.append(tokens)\n",
    "#treino\n",
    "for t in texto_t:\n",
    "    tokens, doc = extrair(t,mapa,ponto)\n",
    "    docs_t.append(doc)\n",
    "    lista_t.append(tokens)\n",
    "#valida\n",
    "for t in texto_v:\n",
    "    tokens, doc = extrair(t,mapa,ponto)\n",
    "    docs_v.append(doc)\n",
    "    lista_v.append(tokens)\n",
    "del doc\n",
    "del t    \n",
    "var_total = []\n",
    "var_t = []\n",
    "#var_v = []\n",
    "#total\n",
    "for tokens in lista_total:\n",
    "    for p in tokens:\n",
    "        if p not in var_total:\n",
    "            var_total.append(p)\n",
    "#treino\n",
    "for tokens in lista_t:\n",
    "    for p in tokens:\n",
    "        if p not in var_t:\n",
    "            var_t.append(p)\n",
    "del tokens\n",
    "del p\n",
    "for var in var_t:\n",
    "    #treinamento\n",
    "    tam = len(X_train)\n",
    "    lvar = np.zeros(tam,dtype='int64')\n",
    "    for i in range(tam):\n",
    "        if var in lista_t[i]:\n",
    "            lvar[i] = 1\n",
    "        else:\n",
    "            lvar[i] = 0\n",
    "    aux=var+'_word'\n",
    "    X_train[aux] = lvar\n",
    "    #teste\n",
    "    tam = len(X_test)\n",
    "    lvar = np.zeros(tam,dtype='int64')\n",
    "    for i in range(tam):\n",
    "        if var in lista_v[i]:\n",
    "            lvar[i] = 1\n",
    "        else:\n",
    "            lvar[i] = 0\n",
    "    X_test[aux] = lvar\n",
    "print(X_train.sexo.value_counts())\n",
    "treino = X_train.copy()\n",
    "teste = X_test.copy()\n",
    "treino['class'] = y_train.tolist()\n",
    "teste['class'] = y_test.tolist()\n",
    "#X_train=np.array(X_train)\n",
    "#X_train =X_train.astype('float64')\n",
    "#X_test=np.array(X_test)\n",
    "#X_test =X_test.astype('float64')\n",
    "#y_train=np.array(y_train)\n",
    "#y_train =y_train.astype('int64')\n",
    "#y_test=np.array(y_test)\n",
    "#y_test =y_test.astype('int64')\n",
    "y_train= y_train.astype(int)\n",
    "y_test= y_test.astype(int)"
   ]
  },
  {
   "cell_type": "markdown",
   "metadata": {},
   "source": [
    "## KNeighborsClassifier"
   ]
  },
  {
   "cell_type": "code",
   "execution_count": 39,
   "metadata": {},
   "outputs": [
    {
     "data": {
      "text/plain": [
       "{'n_neighbors': 7}"
      ]
     },
     "execution_count": 39,
     "metadata": {},
     "output_type": "execute_result"
    }
   ],
   "source": [
    "from sklearn.neighbors import KNeighborsClassifier\n",
    "from sklearn.model_selection import GridSearchCV,cross_val_score\n",
    "\n",
    "param = {'n_neighbors':[1,2,3,4,5,6,7,8,9,10]}\n",
    "KNN = KNeighborsClassifier()\n",
    "grid = GridSearchCV(KNN,param,n_jobs=3)\n",
    "grid.fit(X_train,y_train)\n",
    "grid.best_params_"
   ]
  },
  {
   "cell_type": "code",
   "execution_count": 40,
   "metadata": {},
   "outputs": [
    {
     "data": {
      "text/plain": [
       "(0.6990423901940755,\n",
       " 0.02599100026101647,\n",
       " 0.651685393258427,\n",
       " 0.7415730337078652)"
      ]
     },
     "execution_count": 40,
     "metadata": {},
     "output_type": "execute_result"
    }
   ],
   "source": [
    "modelo_KNN = KNeighborsClassifier(n_neighbors=7)\n",
    "res_KNN = cross_val_score(modelo_KNN,X_train,y_train,cv=10)\n",
    "res_KNN.mean(),res_KNN.std(),res_KNN.min(),res_KNN.max()"
   ]
  },
  {
   "cell_type": "markdown",
   "metadata": {},
   "source": [
    "## CART"
   ]
  },
  {
   "cell_type": "code",
   "execution_count": 30,
   "metadata": {},
   "outputs": [
    {
     "data": {
      "text/plain": [
       "{'max_depth': 7, 'min_samples_split': 17}"
      ]
     },
     "execution_count": 30,
     "metadata": {},
     "output_type": "execute_result"
    }
   ],
   "source": [
    "from sklearn.tree import DecisionTreeClassifier\n",
    "\n",
    "param = {'max_depth':[None,5,6,7,8,9,10,11,12,13,14,15],'min_samples_split':[15,16,17,18,19,20,21,22,23,24,25,26]}\n",
    "CART = DecisionTreeClassifier()\n",
    "grid = GridSearchCV(CART,param,n_jobs=3)\n",
    "grid.fit(X_train,y_train)\n",
    "grid.best_params_"
   ]
  },
  {
   "cell_type": "code",
   "execution_count": 31,
   "metadata": {},
   "outputs": [
    {
     "data": {
      "text/plain": [
       "(0.8173135852911132,\n",
       " 0.030853246768329796,\n",
       " 0.7840909090909091,\n",
       " 0.8764044943820225)"
      ]
     },
     "execution_count": 31,
     "metadata": {},
     "output_type": "execute_result"
    }
   ],
   "source": [
    "modelo_CART = DecisionTreeClassifier(max_depth=7,min_samples_split=16)\n",
    "res_CART = cross_val_score(modelo_CART,X_train,y_train,cv=10)\n",
    "res_CART.mean(),res_CART.std(),res_CART.min(),res_CART.max()"
   ]
  },
  {
   "cell_type": "markdown",
   "metadata": {},
   "source": [
    "## Random forest"
   ]
  },
  {
   "cell_type": "code",
   "execution_count": 65,
   "metadata": {},
   "outputs": [],
   "source": [
    "from sklearn.ensemble import RandomForestClassifier\n",
    "from sklearn.metrics import classification_report"
   ]
  },
  {
   "cell_type": "code",
   "execution_count": 66,
   "metadata": {},
   "outputs": [
    {
     "data": {
      "text/plain": [
       "{'max_depth': None, 'min_samples_split': 2}"
      ]
     },
     "execution_count": 66,
     "metadata": {},
     "output_type": "execute_result"
    }
   ],
   "source": [
    "param ={'min_samples_split':[2,3,4,6,8,10],'max_depth':[None,2,4,5,6,7,8,9,10,15]}\n",
    "RF = RandomForestClassifier(random_state=seed)\n",
    "grid = GridSearchCV(RF,param,n_jobs=3)\n",
    "grid.fit(X_train,y_train)\n",
    "grid.best_params_"
   ]
  },
  {
   "cell_type": "code",
   "execution_count": 67,
   "metadata": {},
   "outputs": [
    {
     "data": {
      "text/plain": [
       "(0.8174923391215525,\n",
       " 0.035421666711014745,\n",
       " 0.7752808988764045,\n",
       " 0.9090909090909091)"
      ]
     },
     "execution_count": 67,
     "metadata": {},
     "output_type": "execute_result"
    }
   ],
   "source": [
    "modelo_RF = RandomForestClassifier(min_samples_split=2,max_depth=None,random_state=seed)\n",
    "res_RF = cross_val_score(modelo_RF,X_train,y_train,cv=10,n_jobs=3)\n",
    "res_RF.mean(),res_RF.std(),res_RF.min(),res_RF.max()"
   ]
  },
  {
   "cell_type": "markdown",
   "metadata": {},
   "source": [
    "## AdaBoost"
   ]
  },
  {
   "cell_type": "code",
   "execution_count": 68,
   "metadata": {},
   "outputs": [
    {
     "data": {
      "text/plain": [
       "{'learning_rate': 0.2}"
      ]
     },
     "execution_count": 68,
     "metadata": {},
     "output_type": "execute_result"
    }
   ],
   "source": [
    "from sklearn.ensemble import AdaBoostClassifier\n",
    "\n",
    "param ={'learning_rate':[0.01,0.05,0.1,0.2,0.5,1,1.5,2]}\n",
    "Ada = AdaBoostClassifier(random_state=seed)\n",
    "grid = GridSearchCV(Ada,param,n_jobs=3)\n",
    "grid.fit(X_train,y_train)\n",
    "grid.best_params_"
   ]
  },
  {
   "cell_type": "code",
   "execution_count": 69,
   "metadata": {},
   "outputs": [
    {
     "data": {
      "text/plain": [
       "(0.7936542390194076,\n",
       " 0.03755213181572676,\n",
       " 0.7303370786516854,\n",
       " 0.8651685393258427)"
      ]
     },
     "execution_count": 69,
     "metadata": {},
     "output_type": "execute_result"
    }
   ],
   "source": [
    "modelo_Ada = AdaBoostClassifier(learning_rate=0.2,random_state=seed)\n",
    "res_Ada = cross_val_score(modelo_Ada,X_train,y_train,cv=10)\n",
    "res_Ada.mean(),res_Ada.std(),res_Ada.min(),res_Ada.max()"
   ]
  },
  {
   "cell_type": "markdown",
   "metadata": {},
   "source": [
    "## Gradient Boosting"
   ]
  },
  {
   "cell_type": "code",
   "execution_count": 70,
   "metadata": {},
   "outputs": [
    {
     "data": {
      "text/plain": [
       "{'max_depth': 8, 'min_samples_split': 5}"
      ]
     },
     "execution_count": 70,
     "metadata": {},
     "output_type": "execute_result"
    }
   ],
   "source": [
    "from sklearn.ensemble import GradientBoostingClassifier\n",
    "\n",
    "param = {'max_depth':[2,3,4,5,8,10,15],'min_samples_split':[2,4,5,6,8,10,20,30,40]}\n",
    "GB = GradientBoostingClassifier(random_state=seed)\n",
    "grid = GridSearchCV(GB,param,n_jobs=3)\n",
    "grid.fit(X_train,y_train)\n",
    "grid.best_params_"
   ]
  },
  {
   "cell_type": "code",
   "execution_count": 71,
   "metadata": {},
   "outputs": [
    {
     "data": {
      "text/plain": [
       "(0.8535112359550562,\n",
       " 0.029453564852334267,\n",
       " 0.8089887640449438,\n",
       " 0.8977272727272727)"
      ]
     },
     "execution_count": 71,
     "metadata": {},
     "output_type": "execute_result"
    }
   ],
   "source": [
    "modelo_GB = GradientBoostingClassifier(max_depth=8,min_samples_split=5,random_state=seed)\n",
    "res_GB = cross_val_score(modelo_GB,X_train,y_train,cv=10,n_jobs=3)\n",
    "res_GB.mean(),res_GB.std(),res_GB.min(),res_GB.max()"
   ]
  },
  {
   "cell_type": "markdown",
   "metadata": {},
   "source": [
    "### Evaluation best model"
   ]
  },
  {
   "cell_type": "code",
   "execution_count": 43,
   "metadata": {},
   "outputs": [],
   "source": [
    "from sklearn.ensemble import GradientBoostingClassifier\n",
    "modelo_GB = GradientBoostingClassifier(max_depth=8,min_samples_split=5,random_state=seed)\n",
    "modelo_GB.fit(X_train,y_train)\n",
    "y_pred =modelo_GB.predict(X_test)\n"
   ]
  },
  {
   "cell_type": "code",
   "execution_count": 50,
   "metadata": {},
   "outputs": [
    {
     "data": {
      "text/html": [
       "<div>\n",
       "<style scoped>\n",
       "    .dataframe tbody tr th:only-of-type {\n",
       "        vertical-align: middle;\n",
       "    }\n",
       "\n",
       "    .dataframe tbody tr th {\n",
       "        vertical-align: top;\n",
       "    }\n",
       "\n",
       "    .dataframe thead th {\n",
       "        text-align: right;\n",
       "    }\n",
       "</style>\n",
       "<table border=\"1\" class=\"dataframe\">\n",
       "  <thead>\n",
       "    <tr style=\"text-align: right;\">\n",
       "      <th>casegr</th>\n",
       "      <th>0</th>\n",
       "      <th>1</th>\n",
       "      <th>2</th>\n",
       "      <th>3</th>\n",
       "    </tr>\n",
       "    <tr>\n",
       "      <th>row_0</th>\n",
       "      <th></th>\n",
       "      <th></th>\n",
       "      <th></th>\n",
       "      <th></th>\n",
       "    </tr>\n",
       "  </thead>\n",
       "  <tbody>\n",
       "    <tr>\n",
       "      <th>0</th>\n",
       "      <td>124</td>\n",
       "      <td>11</td>\n",
       "      <td>3</td>\n",
       "      <td>1</td>\n",
       "    </tr>\n",
       "    <tr>\n",
       "      <th>1</th>\n",
       "      <td>6</td>\n",
       "      <td>22</td>\n",
       "      <td>1</td>\n",
       "      <td>2</td>\n",
       "    </tr>\n",
       "    <tr>\n",
       "      <th>2</th>\n",
       "      <td>2</td>\n",
       "      <td>7</td>\n",
       "      <td>32</td>\n",
       "      <td>2</td>\n",
       "    </tr>\n",
       "    <tr>\n",
       "      <th>3</th>\n",
       "      <td>3</td>\n",
       "      <td>0</td>\n",
       "      <td>0</td>\n",
       "      <td>6</td>\n",
       "    </tr>\n",
       "  </tbody>\n",
       "</table>\n",
       "</div>"
      ],
      "text/plain": [
       "casegr    0   1   2  3\n",
       "row_0                 \n",
       "0       124  11   3  1\n",
       "1         6  22   1  2\n",
       "2         2   7  32  2\n",
       "3         3   0   0  6"
      ]
     },
     "execution_count": 50,
     "metadata": {},
     "output_type": "execute_result"
    }
   ],
   "source": [
    "pd.crosstab(y_pred,y_test)"
   ]
  }
 ],
 "metadata": {
  "kernelspec": {
   "display_name": "Python 3",
   "language": "python",
   "name": "python3"
  },
  "language_info": {
   "codemirror_mode": {
    "name": "ipython",
    "version": 3
   },
   "file_extension": ".py",
   "mimetype": "text/x-python",
   "name": "python",
   "nbconvert_exporter": "python",
   "pygments_lexer": "ipython3",
   "version": "3.8.5"
  }
 },
 "nbformat": 4,
 "nbformat_minor": 4
}
